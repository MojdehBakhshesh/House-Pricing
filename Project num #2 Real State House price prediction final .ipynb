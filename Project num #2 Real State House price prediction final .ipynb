{
 "cells": [
  {
   "cell_type": "markdown",
   "id": "05067f70",
   "metadata": {},
   "source": [
    "# PREDICTING REAL STATE HOUSE PRICE PROJECT 2 F"
   ]
  },
  {
   "cell_type": "markdown",
   "id": "35b7d55a",
   "metadata": {},
   "source": [
    "# import libraries\n"
   ]
  },
  {
   "cell_type": "code",
   "execution_count": 1,
   "id": "37dc63a8",
   "metadata": {},
   "outputs": [],
   "source": [
    "import pandas as pd\n",
    "import numpy as np \n",
    "import sklearn\n",
    "from scipy import stats\n",
    "import seaborn as sns\n",
    "from scipy.stats import normaltest\n",
    "import matplotlib.pyplot as plt\n",
    "import scipy.stats as st\n",
    "import statsmodels.api as sm\n",
    "from statsmodels.formula.api import ols\n",
    "from scipy.stats import jarque_bera\n",
    "from sklearn.model_selection import train_test_split\n",
    "from sklearn.linear_model import LinearRegression\n",
    "from sklearn.metrics import mean_squared_error\n"
   ]
  },
  {
   "cell_type": "markdown",
   "id": "7a576568",
   "metadata": {},
   "source": [
    "# Import Dataset\n"
   ]
  },
  {
   "cell_type": "code",
   "execution_count": 2,
   "id": "142ff057",
   "metadata": {},
   "outputs": [
    {
     "data": {
      "text/html": [
       "<div>\n",
       "<style scoped>\n",
       "    .dataframe tbody tr th:only-of-type {\n",
       "        vertical-align: middle;\n",
       "    }\n",
       "\n",
       "    .dataframe tbody tr th {\n",
       "        vertical-align: top;\n",
       "    }\n",
       "\n",
       "    .dataframe thead th {\n",
       "        text-align: right;\n",
       "    }\n",
       "</style>\n",
       "<table border=\"1\" class=\"dataframe\">\n",
       "  <thead>\n",
       "    <tr style=\"text-align: right;\">\n",
       "      <th></th>\n",
       "      <th>id</th>\n",
       "      <th>date</th>\n",
       "      <th>price</th>\n",
       "      <th>bedrooms</th>\n",
       "      <th>bathrooms</th>\n",
       "      <th>sqft_living</th>\n",
       "      <th>sqft_lot</th>\n",
       "      <th>floors</th>\n",
       "      <th>waterfront</th>\n",
       "      <th>view</th>\n",
       "      <th>...</th>\n",
       "      <th>grade</th>\n",
       "      <th>sqft_above</th>\n",
       "      <th>sqft_basement</th>\n",
       "      <th>yr_built</th>\n",
       "      <th>yr_renovated</th>\n",
       "      <th>zipcode</th>\n",
       "      <th>lat</th>\n",
       "      <th>long</th>\n",
       "      <th>sqft_living15</th>\n",
       "      <th>sqft_lot15</th>\n",
       "    </tr>\n",
       "  </thead>\n",
       "  <tbody>\n",
       "    <tr>\n",
       "      <th>0</th>\n",
       "      <td>7129300520</td>\n",
       "      <td>10/13/2014</td>\n",
       "      <td>221900.0</td>\n",
       "      <td>3</td>\n",
       "      <td>1.00</td>\n",
       "      <td>1180</td>\n",
       "      <td>5650</td>\n",
       "      <td>1.0</td>\n",
       "      <td>NaN</td>\n",
       "      <td>0.0</td>\n",
       "      <td>...</td>\n",
       "      <td>7</td>\n",
       "      <td>1180</td>\n",
       "      <td>0.0</td>\n",
       "      <td>1955</td>\n",
       "      <td>0.0</td>\n",
       "      <td>98178</td>\n",
       "      <td>47.5112</td>\n",
       "      <td>-122.257</td>\n",
       "      <td>1340</td>\n",
       "      <td>5650</td>\n",
       "    </tr>\n",
       "    <tr>\n",
       "      <th>1</th>\n",
       "      <td>6414100192</td>\n",
       "      <td>12/9/2014</td>\n",
       "      <td>538000.0</td>\n",
       "      <td>3</td>\n",
       "      <td>2.25</td>\n",
       "      <td>2570</td>\n",
       "      <td>7242</td>\n",
       "      <td>2.0</td>\n",
       "      <td>0.0</td>\n",
       "      <td>0.0</td>\n",
       "      <td>...</td>\n",
       "      <td>7</td>\n",
       "      <td>2170</td>\n",
       "      <td>400.0</td>\n",
       "      <td>1951</td>\n",
       "      <td>1991.0</td>\n",
       "      <td>98125</td>\n",
       "      <td>47.7210</td>\n",
       "      <td>-122.319</td>\n",
       "      <td>1690</td>\n",
       "      <td>7639</td>\n",
       "    </tr>\n",
       "    <tr>\n",
       "      <th>2</th>\n",
       "      <td>5631500400</td>\n",
       "      <td>2/25/2015</td>\n",
       "      <td>180000.0</td>\n",
       "      <td>2</td>\n",
       "      <td>1.00</td>\n",
       "      <td>770</td>\n",
       "      <td>10000</td>\n",
       "      <td>1.0</td>\n",
       "      <td>0.0</td>\n",
       "      <td>0.0</td>\n",
       "      <td>...</td>\n",
       "      <td>6</td>\n",
       "      <td>770</td>\n",
       "      <td>0.0</td>\n",
       "      <td>1933</td>\n",
       "      <td>NaN</td>\n",
       "      <td>98028</td>\n",
       "      <td>47.7379</td>\n",
       "      <td>-122.233</td>\n",
       "      <td>2720</td>\n",
       "      <td>8062</td>\n",
       "    </tr>\n",
       "    <tr>\n",
       "      <th>3</th>\n",
       "      <td>2487200875</td>\n",
       "      <td>12/9/2014</td>\n",
       "      <td>604000.0</td>\n",
       "      <td>4</td>\n",
       "      <td>3.00</td>\n",
       "      <td>1960</td>\n",
       "      <td>5000</td>\n",
       "      <td>1.0</td>\n",
       "      <td>0.0</td>\n",
       "      <td>0.0</td>\n",
       "      <td>...</td>\n",
       "      <td>7</td>\n",
       "      <td>1050</td>\n",
       "      <td>910.0</td>\n",
       "      <td>1965</td>\n",
       "      <td>0.0</td>\n",
       "      <td>98136</td>\n",
       "      <td>47.5208</td>\n",
       "      <td>-122.393</td>\n",
       "      <td>1360</td>\n",
       "      <td>5000</td>\n",
       "    </tr>\n",
       "    <tr>\n",
       "      <th>4</th>\n",
       "      <td>1954400510</td>\n",
       "      <td>2/18/2015</td>\n",
       "      <td>510000.0</td>\n",
       "      <td>3</td>\n",
       "      <td>2.00</td>\n",
       "      <td>1680</td>\n",
       "      <td>8080</td>\n",
       "      <td>1.0</td>\n",
       "      <td>0.0</td>\n",
       "      <td>0.0</td>\n",
       "      <td>...</td>\n",
       "      <td>8</td>\n",
       "      <td>1680</td>\n",
       "      <td>0.0</td>\n",
       "      <td>1987</td>\n",
       "      <td>0.0</td>\n",
       "      <td>98074</td>\n",
       "      <td>47.6168</td>\n",
       "      <td>-122.045</td>\n",
       "      <td>1800</td>\n",
       "      <td>7503</td>\n",
       "    </tr>\n",
       "  </tbody>\n",
       "</table>\n",
       "<p>5 rows × 21 columns</p>\n",
       "</div>"
      ],
      "text/plain": [
       "           id        date     price  bedrooms  bathrooms  sqft_living  \\\n",
       "0  7129300520  10/13/2014  221900.0         3       1.00         1180   \n",
       "1  6414100192   12/9/2014  538000.0         3       2.25         2570   \n",
       "2  5631500400   2/25/2015  180000.0         2       1.00          770   \n",
       "3  2487200875   12/9/2014  604000.0         4       3.00         1960   \n",
       "4  1954400510   2/18/2015  510000.0         3       2.00         1680   \n",
       "\n",
       "   sqft_lot  floors  waterfront  view  ...  grade  sqft_above  sqft_basement  \\\n",
       "0      5650     1.0         NaN   0.0  ...      7        1180            0.0   \n",
       "1      7242     2.0         0.0   0.0  ...      7        2170          400.0   \n",
       "2     10000     1.0         0.0   0.0  ...      6         770            0.0   \n",
       "3      5000     1.0         0.0   0.0  ...      7        1050          910.0   \n",
       "4      8080     1.0         0.0   0.0  ...      8        1680            0.0   \n",
       "\n",
       "  yr_built  yr_renovated  zipcode      lat     long  sqft_living15  sqft_lot15  \n",
       "0     1955           0.0    98178  47.5112 -122.257           1340        5650  \n",
       "1     1951        1991.0    98125  47.7210 -122.319           1690        7639  \n",
       "2     1933           NaN    98028  47.7379 -122.233           2720        8062  \n",
       "3     1965           0.0    98136  47.5208 -122.393           1360        5000  \n",
       "4     1987           0.0    98074  47.6168 -122.045           1800        7503  \n",
       "\n",
       "[5 rows x 21 columns]"
      ]
     },
     "execution_count": 2,
     "metadata": {},
     "output_type": "execute_result"
    }
   ],
   "source": [
    "path=\"C:/Users/mojde/OneDrive/Desktop/python project 2 xi/dataset/kc_house_data.csv\"\n",
    "df=pd.read_csv(path)\n",
    "df.head()"
   ]
  },
  {
   "cell_type": "code",
   "execution_count": 3,
   "id": "b1b4c952",
   "metadata": {},
   "outputs": [
    {
     "data": {
      "text/plain": [
       "Index(['id', 'date', 'price', 'bedrooms', 'bathrooms', 'sqft_living',\n",
       "       'sqft_lot', 'floors', 'waterfront', 'view', 'condition', 'grade',\n",
       "       'sqft_above', 'sqft_basement', 'yr_built', 'yr_renovated', 'zipcode',\n",
       "       'lat', 'long', 'sqft_living15', 'sqft_lot15'],\n",
       "      dtype='object')"
      ]
     },
     "execution_count": 3,
     "metadata": {},
     "output_type": "execute_result"
    }
   ],
   "source": [
    "df.columns\n"
   ]
  },
  {
   "cell_type": "code",
   "execution_count": 4,
   "id": "ab292b89",
   "metadata": {},
   "outputs": [
    {
     "data": {
      "text/plain": [
       "id                0.000000\n",
       "date              0.000000\n",
       "price             0.000000\n",
       "bedrooms          0.000000\n",
       "bathrooms         0.000000\n",
       "sqft_living       0.000000\n",
       "sqft_lot          0.000000\n",
       "floors            0.000000\n",
       "waterfront       11.001528\n",
       "view              0.291707\n",
       "condition         0.000000\n",
       "grade             0.000000\n",
       "sqft_above        0.000000\n",
       "sqft_basement     0.000000\n",
       "yr_built          0.000000\n",
       "yr_renovated     17.789508\n",
       "zipcode           0.000000\n",
       "lat               0.000000\n",
       "long              0.000000\n",
       "sqft_living15     0.000000\n",
       "sqft_lot15        0.000000\n",
       "dtype: float64"
      ]
     },
     "execution_count": 4,
     "metadata": {},
     "output_type": "execute_result"
    }
   ],
   "source": [
    "df.isna().sum()/len(df)*100"
   ]
  },
  {
   "cell_type": "markdown",
   "id": "de0d5019",
   "metadata": {},
   "source": [
    "# df.info()"
   ]
  },
  {
   "cell_type": "code",
   "execution_count": 5,
   "id": "ea38108b",
   "metadata": {
    "scrolled": false
   },
   "outputs": [
    {
     "name": "stdout",
     "output_type": "stream",
     "text": [
      "<class 'pandas.core.frame.DataFrame'>\n",
      "RangeIndex: 21597 entries, 0 to 21596\n",
      "Data columns (total 21 columns):\n",
      " #   Column         Non-Null Count  Dtype  \n",
      "---  ------         --------------  -----  \n",
      " 0   id             21597 non-null  int64  \n",
      " 1   date           21597 non-null  object \n",
      " 2   price          21597 non-null  float64\n",
      " 3   bedrooms       21597 non-null  int64  \n",
      " 4   bathrooms      21597 non-null  float64\n",
      " 5   sqft_living    21597 non-null  int64  \n",
      " 6   sqft_lot       21597 non-null  int64  \n",
      " 7   floors         21597 non-null  float64\n",
      " 8   waterfront     19221 non-null  float64\n",
      " 9   view           21534 non-null  float64\n",
      " 10  condition      21597 non-null  int64  \n",
      " 11  grade          21597 non-null  int64  \n",
      " 12  sqft_above     21597 non-null  int64  \n",
      " 13  sqft_basement  21597 non-null  object \n",
      " 14  yr_built       21597 non-null  int64  \n",
      " 15  yr_renovated   17755 non-null  float64\n",
      " 16  zipcode        21597 non-null  int64  \n",
      " 17  lat            21597 non-null  float64\n",
      " 18  long           21597 non-null  float64\n",
      " 19  sqft_living15  21597 non-null  int64  \n",
      " 20  sqft_lot15     21597 non-null  int64  \n",
      "dtypes: float64(8), int64(11), object(2)\n",
      "memory usage: 3.5+ MB\n"
     ]
    }
   ],
   "source": [
    "df.info()"
   ]
  },
  {
   "cell_type": "markdown",
   "id": "2db56497",
   "metadata": {},
   "source": [
    "# Clean dataset "
   ]
  },
  {
   "cell_type": "markdown",
   "id": "dd0d9f39",
   "metadata": {},
   "source": [
    "# Drop unnecessary columns\n"
   ]
  },
  {
   "cell_type": "code",
   "execution_count": 6,
   "id": "b66f4b63",
   "metadata": {},
   "outputs": [],
   "source": [
    "df.drop(['date','view','sqft_above','sqft_basement','lat','long','zipcode','sqft_living15','sqft_lot15','yr_renovated','id','sqft_lot','yr_built'],axis=1,inplace=True)"
   ]
  },
  {
   "cell_type": "code",
   "execution_count": 7,
   "id": "43167d1d",
   "metadata": {
    "scrolled": false
   },
   "outputs": [
    {
     "data": {
      "text/html": [
       "<div>\n",
       "<style scoped>\n",
       "    .dataframe tbody tr th:only-of-type {\n",
       "        vertical-align: middle;\n",
       "    }\n",
       "\n",
       "    .dataframe tbody tr th {\n",
       "        vertical-align: top;\n",
       "    }\n",
       "\n",
       "    .dataframe thead th {\n",
       "        text-align: right;\n",
       "    }\n",
       "</style>\n",
       "<table border=\"1\" class=\"dataframe\">\n",
       "  <thead>\n",
       "    <tr style=\"text-align: right;\">\n",
       "      <th></th>\n",
       "      <th>price</th>\n",
       "      <th>bedrooms</th>\n",
       "      <th>bathrooms</th>\n",
       "      <th>sqft_living</th>\n",
       "      <th>floors</th>\n",
       "      <th>waterfront</th>\n",
       "      <th>condition</th>\n",
       "      <th>grade</th>\n",
       "    </tr>\n",
       "  </thead>\n",
       "  <tbody>\n",
       "    <tr>\n",
       "      <th>0</th>\n",
       "      <td>221900.0</td>\n",
       "      <td>3</td>\n",
       "      <td>1.00</td>\n",
       "      <td>1180</td>\n",
       "      <td>1.0</td>\n",
       "      <td>NaN</td>\n",
       "      <td>3</td>\n",
       "      <td>7</td>\n",
       "    </tr>\n",
       "    <tr>\n",
       "      <th>1</th>\n",
       "      <td>538000.0</td>\n",
       "      <td>3</td>\n",
       "      <td>2.25</td>\n",
       "      <td>2570</td>\n",
       "      <td>2.0</td>\n",
       "      <td>0.0</td>\n",
       "      <td>3</td>\n",
       "      <td>7</td>\n",
       "    </tr>\n",
       "    <tr>\n",
       "      <th>2</th>\n",
       "      <td>180000.0</td>\n",
       "      <td>2</td>\n",
       "      <td>1.00</td>\n",
       "      <td>770</td>\n",
       "      <td>1.0</td>\n",
       "      <td>0.0</td>\n",
       "      <td>3</td>\n",
       "      <td>6</td>\n",
       "    </tr>\n",
       "    <tr>\n",
       "      <th>3</th>\n",
       "      <td>604000.0</td>\n",
       "      <td>4</td>\n",
       "      <td>3.00</td>\n",
       "      <td>1960</td>\n",
       "      <td>1.0</td>\n",
       "      <td>0.0</td>\n",
       "      <td>5</td>\n",
       "      <td>7</td>\n",
       "    </tr>\n",
       "    <tr>\n",
       "      <th>4</th>\n",
       "      <td>510000.0</td>\n",
       "      <td>3</td>\n",
       "      <td>2.00</td>\n",
       "      <td>1680</td>\n",
       "      <td>1.0</td>\n",
       "      <td>0.0</td>\n",
       "      <td>3</td>\n",
       "      <td>8</td>\n",
       "    </tr>\n",
       "  </tbody>\n",
       "</table>\n",
       "</div>"
      ],
      "text/plain": [
       "      price  bedrooms  bathrooms  sqft_living  floors  waterfront  condition  \\\n",
       "0  221900.0         3       1.00         1180     1.0         NaN          3   \n",
       "1  538000.0         3       2.25         2570     2.0         0.0          3   \n",
       "2  180000.0         2       1.00          770     1.0         0.0          3   \n",
       "3  604000.0         4       3.00         1960     1.0         0.0          5   \n",
       "4  510000.0         3       2.00         1680     1.0         0.0          3   \n",
       "\n",
       "   grade  \n",
       "0      7  \n",
       "1      7  \n",
       "2      6  \n",
       "3      7  \n",
       "4      8  "
      ]
     },
     "execution_count": 7,
     "metadata": {},
     "output_type": "execute_result"
    }
   ],
   "source": [
    "df.head()"
   ]
  },
  {
   "cell_type": "markdown",
   "id": "1ac342dc",
   "metadata": {},
   "source": [
    "# finding any Null or duplicated value"
   ]
  },
  {
   "cell_type": "code",
   "execution_count": 8,
   "id": "dde84bd0",
   "metadata": {
    "scrolled": true
   },
   "outputs": [],
   "source": [
    "#df.isnull().sum()\n",
    "#THERE wasnt any Null value based on this code"
   ]
  },
  {
   "cell_type": "code",
   "execution_count": 9,
   "id": "d3240ee3",
   "metadata": {
    "scrolled": false
   },
   "outputs": [
    {
     "data": {
      "text/plain": [
       "83"
      ]
     },
     "execution_count": 9,
     "metadata": {},
     "output_type": "execute_result"
    }
   ],
   "source": [
    "#finding duplications and remove them\n",
    "repeated=df.duplicated().sum()\n",
    "repeated"
   ]
  },
  {
   "cell_type": "code",
   "execution_count": 10,
   "id": "4da80d7e",
   "metadata": {},
   "outputs": [],
   "source": [
    "df.drop_duplicates(inplace=True)"
   ]
  },
  {
   "cell_type": "code",
   "execution_count": 11,
   "id": "a2446dfc",
   "metadata": {},
   "outputs": [],
   "source": [
    "df= df.dropna()"
   ]
  },
  {
   "cell_type": "markdown",
   "id": "d80c9357",
   "metadata": {},
   "source": [
    "# check linearity of independent variables with scatter plot"
   ]
  },
  {
   "cell_type": "code",
   "execution_count": 12,
   "id": "92d7c0f9",
   "metadata": {},
   "outputs": [],
   "source": [
    "independent_variables=['bedrooms','bathrooms','sqft_living','floors','condition','grade','waterfront']"
   ]
  },
  {
   "cell_type": "code",
   "execution_count": 13,
   "id": "bed332c5",
   "metadata": {
    "scrolled": true
   },
   "outputs": [
    {
     "data": {
      "image/png": "[encoded data removed]",
      "text/plain": [
       "<Figure size 1500x500 with 7 Axes>"
      ]
     },
     "metadata": {},
     "output_type": "display_data"
    }
   ],
   "source": [
    "\n",
    "\n",
    "plt.figure(figsize=(15,5))\n",
    "for i, feature in enumerate(independent_variables):\n",
    "    plt.subplot(1, len(independent_variables), i + 1)\n",
    "    sns.scatterplot(x=feature, y='price', data=df)\n",
    "    plt.xlabel(feature)\n",
    "    plt.ylabel('Price')"
   ]
  },
  {
   "cell_type": "markdown",
   "id": "ec992cb1",
   "metadata": {},
   "source": [
    "# Build the first model"
   ]
  },
  {
   "cell_type": "code",
   "execution_count": 14,
   "id": "45c219ef",
   "metadata": {
    "scrolled": true
   },
   "outputs": [
    {
     "name": "stdout",
     "output_type": "stream",
     "text": [
      "                            OLS Regression Results                            \n",
      "==============================================================================\n",
      "Dep. Variable:                  price   R-squared:                       0.594\n",
      "Model:                            OLS   Adj. R-squared:                  0.594\n",
      "Method:                 Least Squares   F-statistic:                     4006.\n",
      "Date:                Thu, 28 Mar 2024   Prob (F-statistic):               0.00\n",
      "Time:                        22:03:27   Log-Likelihood:            -2.6404e+05\n",
      "No. Observations:               19138   AIC:                         5.281e+05\n",
      "Df Residuals:                   19130   BIC:                         5.282e+05\n",
      "Df Model:                           7                                         \n",
      "Covariance Type:            nonrobust                                         \n",
      "===============================================================================\n",
      "                  coef    std err          t      P>|t|      [0.025      0.975]\n",
      "-------------------------------------------------------------------------------\n",
      "const       -7.302e+05   1.89e+04    -38.733      0.000   -7.67e+05   -6.93e+05\n",
      "bedrooms    -3.786e+04   2346.760    -16.134      0.000   -4.25e+04   -3.33e+04\n",
      "bathrooms   -1.074e+04   3789.516     -2.833      0.005   -1.82e+04   -3309.018\n",
      "sqft_living   208.8713      3.691     56.590      0.000     201.637     216.106\n",
      "floors      -1.816e+04   3899.690     -4.656      0.000   -2.58e+04   -1.05e+04\n",
      "condition    6.005e+04   2750.753     21.831      0.000    5.47e+04    6.54e+04\n",
      "grade        1.049e+05   2432.618     43.124      0.000       1e+05     1.1e+05\n",
      "waterfront   8.156e+05   1.99e+04     40.930      0.000    7.77e+05    8.55e+05\n",
      "==============================================================================\n",
      "Omnibus:                    13831.902   Durbin-Watson:                   1.977\n",
      "Prob(Omnibus):                  0.000   Jarque-Bera (JB):           774644.292\n",
      "Skew:                           2.907   Prob(JB):                         0.00\n",
      "Kurtosis:                      33.621   Cond. No.                     2.65e+04\n",
      "==============================================================================\n",
      "\n",
      "Notes:\n",
      "[1] Standard Errors assume that the covariance matrix of the errors is correctly specified.\n",
      "[2] The condition number is large, 2.65e+04. This might indicate that there are\n",
      "strong multicollinearity or other numerical problems.\n"
     ]
    }
   ],
   "source": [
    "X = sm.add_constant(df[independent_variables])\n",
    "y = df['price']\n",
    "model = sm.OLS(y, X).fit()\n",
    "print(model.summary())"
   ]
  },
  {
   "cell_type": "markdown",
   "id": "457a5432",
   "metadata": {},
   "source": [
    "# Check model normality : Q-Q plot and  Homoscedasticity"
   ]
  },
  {
   "cell_type": "code",
   "execution_count": 15,
   "id": "6829826c",
   "metadata": {},
   "outputs": [
    {
     "data": {
      "image/png": "[encoded data removed]",
      "text/plain": [
       "<Figure size 640x480 with 1 Axes>"
      ]
     },
     "metadata": {},
     "output_type": "display_data"
    }
   ],
   "source": [
    "residuals = model.resid\n",
    "\n",
    "# Q-Q plot of residuals\n",
    "sm.qqplot(residuals, line='s')\n",
    "plt.title('Q-Q Plot of Residuals')\n",
    "plt.show()"
   ]
  },
  {
   "cell_type": "code",
   "execution_count": 16,
   "id": "6a935601",
   "metadata": {
    "scrolled": true
   },
   "outputs": [
    {
     "data": {
      "image/png": "[encoded data removed]",
      "text/plain": [
       "<Figure size 640x480 with 1 Axes>"
      ]
     },
     "metadata": {},
     "output_type": "display_data"
    }
   ],
   "source": [
    "plt.scatter(model.fittedvalues, residuals)\n",
    "plt.title('Residuals vs. Fitted Values')\n",
    "plt.xlabel('Fitted Values')\n",
    "plt.ylabel('Residuals')\n",
    "plt.show()"
   ]
  },
  {
   "cell_type": "markdown",
   "id": "234d33de",
   "metadata": {},
   "source": [
    "# Brief explanation about this basic  model "
   ]
  },
  {
   "cell_type": "code",
   "execution_count": 17,
   "id": "5a2b5cd7",
   "metadata": {},
   "outputs": [],
   "source": [
    "#these models are signifcant based on p-value and independent variables has positive(coeff>0) ,so we reject the H0 which means we reject the normal distribution\n",
    "\n",
    "#these models have highlyskewed base on skew>0,and based on  high kurtosis which means  they all have heavy tail comparing to the normal distribution\n",
    "\n",
    "#based on what we have all models  violate the assumption of normality\n",
    "\n",
    "#these dependent variables have positive effect on price base on coeff>0 :bathrooms,sqft_living,floor,condition,waterfront,grade\n",
    "\n",
    "#based on the Q-Q plot and Homoscedasticity graph it is considered that the model violate the normality ,thus it needs to be improved "
   ]
  },
  {
   "cell_type": "markdown",
   "id": "0f5929c6",
   "metadata": {},
   "source": [
    "# Detecting Outliers using Boxplot"
   ]
  },
  {
   "cell_type": "code",
   "execution_count": 18,
   "id": "b360a2a1",
   "metadata": {},
   "outputs": [],
   "source": [
    "df = pd.DataFrame(df)\n"
   ]
  },
  {
   "cell_type": "code",
   "execution_count": 19,
   "id": "e2942305",
   "metadata": {
    "scrolled": true
   },
   "outputs": [
    {
     "data": {
      "text/html": [
       "<div>\n",
       "<style scoped>\n",
       "    .dataframe tbody tr th:only-of-type {\n",
       "        vertical-align: middle;\n",
       "    }\n",
       "\n",
       "    .dataframe tbody tr th {\n",
       "        vertical-align: top;\n",
       "    }\n",
       "\n",
       "    .dataframe thead th {\n",
       "        text-align: right;\n",
       "    }\n",
       "</style>\n",
       "<table border=\"1\" class=\"dataframe\">\n",
       "  <thead>\n",
       "    <tr style=\"text-align: right;\">\n",
       "      <th></th>\n",
       "      <th>price</th>\n",
       "      <th>bedrooms</th>\n",
       "      <th>bathrooms</th>\n",
       "      <th>sqft_living</th>\n",
       "      <th>floors</th>\n",
       "      <th>waterfront</th>\n",
       "      <th>condition</th>\n",
       "      <th>grade</th>\n",
       "    </tr>\n",
       "  </thead>\n",
       "  <tbody>\n",
       "    <tr>\n",
       "      <th>count</th>\n",
       "      <td>1.913800e+04</td>\n",
       "      <td>19138.000000</td>\n",
       "      <td>19138.000000</td>\n",
       "      <td>19138.000000</td>\n",
       "      <td>19138.000000</td>\n",
       "      <td>19138.000000</td>\n",
       "      <td>19138.000000</td>\n",
       "      <td>19138.000000</td>\n",
       "    </tr>\n",
       "    <tr>\n",
       "      <th>mean</th>\n",
       "      <td>5.422244e+05</td>\n",
       "      <td>3.375536</td>\n",
       "      <td>2.117463</td>\n",
       "      <td>2083.993991</td>\n",
       "      <td>1.493965</td>\n",
       "      <td>0.007629</td>\n",
       "      <td>3.410962</td>\n",
       "      <td>7.661354</td>\n",
       "    </tr>\n",
       "    <tr>\n",
       "      <th>std</th>\n",
       "      <td>3.728322e+05</td>\n",
       "      <td>0.929000</td>\n",
       "      <td>0.769397</td>\n",
       "      <td>923.264705</td>\n",
       "      <td>0.539405</td>\n",
       "      <td>0.087011</td>\n",
       "      <td>0.650940</td>\n",
       "      <td>1.177204</td>\n",
       "    </tr>\n",
       "    <tr>\n",
       "      <th>min</th>\n",
       "      <td>7.800000e+04</td>\n",
       "      <td>1.000000</td>\n",
       "      <td>0.500000</td>\n",
       "      <td>370.000000</td>\n",
       "      <td>1.000000</td>\n",
       "      <td>0.000000</td>\n",
       "      <td>1.000000</td>\n",
       "      <td>3.000000</td>\n",
       "    </tr>\n",
       "    <tr>\n",
       "      <th>25%</th>\n",
       "      <td>3.220000e+05</td>\n",
       "      <td>3.000000</td>\n",
       "      <td>1.750000</td>\n",
       "      <td>1430.000000</td>\n",
       "      <td>1.000000</td>\n",
       "      <td>0.000000</td>\n",
       "      <td>3.000000</td>\n",
       "      <td>7.000000</td>\n",
       "    </tr>\n",
       "    <tr>\n",
       "      <th>50%</th>\n",
       "      <td>4.500000e+05</td>\n",
       "      <td>3.000000</td>\n",
       "      <td>2.250000</td>\n",
       "      <td>1920.000000</td>\n",
       "      <td>1.500000</td>\n",
       "      <td>0.000000</td>\n",
       "      <td>3.000000</td>\n",
       "      <td>7.000000</td>\n",
       "    </tr>\n",
       "    <tr>\n",
       "      <th>75%</th>\n",
       "      <td>6.450000e+05</td>\n",
       "      <td>4.000000</td>\n",
       "      <td>2.500000</td>\n",
       "      <td>2550.000000</td>\n",
       "      <td>2.000000</td>\n",
       "      <td>0.000000</td>\n",
       "      <td>4.000000</td>\n",
       "      <td>8.000000</td>\n",
       "    </tr>\n",
       "    <tr>\n",
       "      <th>max</th>\n",
       "      <td>7.700000e+06</td>\n",
       "      <td>33.000000</td>\n",
       "      <td>8.000000</td>\n",
       "      <td>13540.000000</td>\n",
       "      <td>3.500000</td>\n",
       "      <td>1.000000</td>\n",
       "      <td>5.000000</td>\n",
       "      <td>13.000000</td>\n",
       "    </tr>\n",
       "  </tbody>\n",
       "</table>\n",
       "</div>"
      ],
      "text/plain": [
       "              price      bedrooms     bathrooms   sqft_living        floors  \\\n",
       "count  1.913800e+04  19138.000000  19138.000000  19138.000000  19138.000000   \n",
       "mean   5.422244e+05      3.375536      2.117463   2083.993991      1.493965   \n",
       "std    3.728322e+05      0.929000      0.769397    923.264705      0.539405   \n",
       "min    7.800000e+04      1.000000      0.500000    370.000000      1.000000   \n",
       "25%    3.220000e+05      3.000000      1.750000   1430.000000      1.000000   \n",
       "50%    4.500000e+05      3.000000      2.250000   1920.000000      1.500000   \n",
       "75%    6.450000e+05      4.000000      2.500000   2550.000000      2.000000   \n",
       "max    7.700000e+06     33.000000      8.000000  13540.000000      3.500000   \n",
       "\n",
       "         waterfront     condition         grade  \n",
       "count  19138.000000  19138.000000  19138.000000  \n",
       "mean       0.007629      3.410962      7.661354  \n",
       "std        0.087011      0.650940      1.177204  \n",
       "min        0.000000      1.000000      3.000000  \n",
       "25%        0.000000      3.000000      7.000000  \n",
       "50%        0.000000      3.000000      7.000000  \n",
       "75%        0.000000      4.000000      8.000000  \n",
       "max        1.000000      5.000000     13.000000  "
      ]
     },
     "execution_count": 19,
     "metadata": {},
     "output_type": "execute_result"
    }
   ],
   "source": [
    "df.describe()"
   ]
  },
  {
   "cell_type": "code",
   "execution_count": 20,
   "id": "0fbd9d41",
   "metadata": {},
   "outputs": [],
   "source": [
    "#as we see we have 3 columns with outliers:grade,sqft_living,bedrooms"
   ]
  },
  {
   "cell_type": "code",
   "execution_count": 21,
   "id": "84010842",
   "metadata": {
    "scrolled": true
   },
   "outputs": [
    {
     "data": {
      "text/plain": [
       "<Axes: xlabel='grade'>"
      ]
     },
     "execution_count": 21,
     "metadata": {},
     "output_type": "execute_result"
    },
    {
     "data": {
      "image/png": "[encoded data removed]",
      "text/plain": [
       "<Figure size 640x480 with 1 Axes>"
      ]
     },
     "metadata": {},
     "output_type": "display_data"
    }
   ],
   "source": [
    "sns.boxplot(x='grade',data=df)"
   ]
  },
  {
   "cell_type": "code",
   "execution_count": 22,
   "id": "911b164e",
   "metadata": {
    "scrolled": true
   },
   "outputs": [
    {
     "data": {
      "text/plain": [
       "<Axes: xlabel='sqft_living'>"
      ]
     },
     "execution_count": 22,
     "metadata": {},
     "output_type": "execute_result"
    },
    {
     "data": {
      "image/png": "[encoded data removed]",
      "text/plain": [
       "<Figure size 640x480 with 1 Axes>"
      ]
     },
     "metadata": {},
     "output_type": "display_data"
    }
   ],
   "source": [
    "sns.boxplot(x='sqft_living',data=df)"
   ]
  },
  {
   "cell_type": "code",
   "execution_count": 23,
   "id": "64672527",
   "metadata": {
    "scrolled": true
   },
   "outputs": [
    {
     "data": {
      "text/plain": [
       "<Axes: xlabel='bedrooms'>"
      ]
     },
     "execution_count": 23,
     "metadata": {},
     "output_type": "execute_result"
    },
    {
     "data": {
      "image/png": "[encoded data removed]",
      "text/plain": [
       "<Figure size 640x480 with 1 Axes>"
      ]
     },
     "metadata": {},
     "output_type": "display_data"
    }
   ],
   "source": [
    "sns.boxplot(x='bedrooms',data=df)"
   ]
  },
  {
   "cell_type": "markdown",
   "id": "7540b87c",
   "metadata": {},
   "source": [
    "# Detecting Outliers By IQR method "
   ]
  },
  {
   "cell_type": "code",
   "execution_count": 24,
   "id": "09e256ae",
   "metadata": {},
   "outputs": [
    {
     "data": {
      "text/plain": [
       "(5.5, 9.5)"
      ]
     },
     "execution_count": 24,
     "metadata": {},
     "output_type": "execute_result"
    }
   ],
   "source": [
    "q1=df['grade'].quantile(0.25)\n",
    "q3=df['grade'].quantile(0.75)\n",
    "IQR1=q3-q1\n",
    "upper_limit_grade=q3+(1.5*IQR1)\n",
    "lower_limit_grade=q1-(1.5*IQR1)\n",
    "lower_limit_grade,upper_limit_grade"
   ]
  },
  {
   "cell_type": "code",
   "execution_count": 25,
   "id": "d2ed1c15",
   "metadata": {},
   "outputs": [
    {
     "data": {
      "text/plain": [
       "(-250.0, 4230.0)"
      ]
     },
     "execution_count": 25,
     "metadata": {},
     "output_type": "execute_result"
    }
   ],
   "source": [
    "q1=df['sqft_living'].quantile(0.25)\n",
    "q3=df['sqft_living'].quantile(0.75)\n",
    "IQR2=q3-q1\n",
    "\n",
    "\n",
    "upper_limit_sqft_living=q3+(1.5*IQR2)\n",
    "lower_limit_sqft_living=q1-(1.5*IQR2)\n",
    "lower_limit_sqft_living,upper_limit_sqft_living"
   ]
  },
  {
   "cell_type": "code",
   "execution_count": 26,
   "id": "e2ce5b45",
   "metadata": {},
   "outputs": [
    {
     "data": {
      "text/plain": [
       "(1.5, 5.5)"
      ]
     },
     "execution_count": 26,
     "metadata": {},
     "output_type": "execute_result"
    }
   ],
   "source": [
    "q1=df['bedrooms'].quantile(0.25)\n",
    "q3=df['bedrooms'].quantile(0.75)\n",
    "IQR3=q3-q1\n",
    "\n",
    "upper_limit_bedrooms=q3+(1.5*IQR3)\n",
    "lower_limit_bedrooms=q1-(1.5*IQR3)\n",
    "lower_limit_bedrooms,upper_limit_bedrooms"
   ]
  },
  {
   "cell_type": "markdown",
   "id": "d08a0a13",
   "metadata": {},
   "source": [
    "# Removing Outliers :\n"
   ]
  },
  {
   "cell_type": "code",
   "execution_count": 27,
   "id": "4550c90e",
   "metadata": {},
   "outputs": [],
   "source": [
    "df1=df.loc[(df['grade']<upper_limit_grade) & (df['grade'] > lower_limit_grade)]"
   ]
  },
  {
   "cell_type": "code",
   "execution_count": 28,
   "id": "9d93cd6b",
   "metadata": {
    "scrolled": true
   },
   "outputs": [
    {
     "name": "stdout",
     "output_type": "stream",
     "text": [
      "before removing outliers 19138\n",
      "after removing outliers 17431\n",
      "number of outliers 1707\n"
     ]
    }
   ],
   "source": [
    "print('before removing outliers',len(df))\n",
    "print('after removing outliers',len(df1))\n",
    "print('number of outliers',len(df)-len(df1))"
   ]
  },
  {
   "cell_type": "code",
   "execution_count": 29,
   "id": "21b2258c",
   "metadata": {},
   "outputs": [
    {
     "name": "stdout",
     "output_type": "stream",
     "text": [
      "before removing outliers 17431\n",
      "after removing outliers 17340\n",
      "number of outliers 91\n"
     ]
    }
   ],
   "source": [
    "df2=df1.loc[(df1['sqft_living']<upper_limit_sqft_living) & (df1['sqft_living'] > lower_limit_sqft_living)]\n",
    "print('before removing outliers',len(df1))\n",
    "print('after removing outliers',len(df2))\n",
    "print('number of outliers',len(df1)-len(df2))"
   ]
  },
  {
   "cell_type": "code",
   "execution_count": 30,
   "id": "6100f456",
   "metadata": {
    "scrolled": true
   },
   "outputs": [
    {
     "name": "stdout",
     "output_type": "stream",
     "text": [
      "before removing outliers 17340\n",
      "after removing outliers 16996\n",
      "number of outliers 344\n"
     ]
    }
   ],
   "source": [
    "df3=df2.loc[(df2['bedrooms']<upper_limit_bedrooms) & (df2['bedrooms'] > lower_limit_bedrooms)]\n",
    "print('before removing outliers',len(df2))\n",
    "print('after removing outliers',len(df3))\n",
    "print('number of outliers',len(df2)-len(df3))"
   ]
  },
  {
   "cell_type": "code",
   "execution_count": 31,
   "id": "dd9ff6b2",
   "metadata": {
    "scrolled": true
   },
   "outputs": [
    {
     "data": {
      "text/plain": [
       "(16996, 8)"
      ]
     },
     "execution_count": 31,
     "metadata": {},
     "output_type": "execute_result"
    }
   ],
   "source": [
    "df3.shape"
   ]
  },
  {
   "cell_type": "code",
   "execution_count": 32,
   "id": "7c9e93a0",
   "metadata": {},
   "outputs": [
    {
     "data": {
      "text/plain": [
       "((19138, 8), (16996, 8))"
      ]
     },
     "execution_count": 32,
     "metadata": {},
     "output_type": "execute_result"
    }
   ],
   "source": [
    "df.shape , df3.shape"
   ]
  },
  {
   "cell_type": "code",
   "execution_count": 33,
   "id": "d35195b5",
   "metadata": {
    "scrolled": true
   },
   "outputs": [
    {
     "data": {
      "text/plain": [
       "2142"
      ]
     },
     "execution_count": 33,
     "metadata": {},
     "output_type": "execute_result"
    }
   ],
   "source": [
    "len(df)-len(df3)\n",
    "#we remove 2145 rows as they contain outliers"
   ]
  },
  {
   "cell_type": "markdown",
   "id": "e35e4e46",
   "metadata": {},
   "source": [
    "# improving  model "
   ]
  },
  {
   "cell_type": "code",
   "execution_count": 34,
   "id": "3b1e29d5",
   "metadata": {},
   "outputs": [
    {
     "name": "stdout",
     "output_type": "stream",
     "text": [
      "bedrooms\n",
      "3    8284\n",
      "4    5266\n",
      "2    2306\n",
      "5    1140\n",
      "Name: count, dtype: int64\n",
      "bathrooms\n",
      "2.50    4354\n",
      "1.00    3113\n",
      "1.75    2679\n",
      "2.25    1692\n",
      "2.00    1671\n",
      "1.50    1250\n",
      "2.75     897\n",
      "3.00     524\n",
      "3.50     369\n",
      "3.25     317\n",
      "3.75      47\n",
      "0.75      27\n",
      "4.00      23\n",
      "4.25      13\n",
      "4.50       9\n",
      "1.25       6\n",
      "4.75       3\n",
      "0.50       2\n",
      "Name: count, dtype: int64\n",
      "floors\n",
      "1.0    8886\n",
      "2.0    5970\n",
      "1.5    1554\n",
      "3.0     489\n",
      "2.5      92\n",
      "3.5       5\n",
      "Name: count, dtype: int64\n",
      "waterfront\n",
      "0.0    16919\n",
      "1.0       77\n",
      "Name: count, dtype: int64\n",
      "condition\n",
      "3    10829\n",
      "4     4640\n",
      "5     1385\n",
      "2      128\n",
      "1       14\n",
      "Name: count, dtype: int64\n",
      "grade\n",
      "7    7786\n",
      "8    5269\n",
      "9    2213\n",
      "6    1728\n",
      "Name: count, dtype: int64\n"
     ]
    }
   ],
   "source": [
    "print(df3['bedrooms'].value_counts())\n",
    "print(df3['bathrooms'].value_counts())\n",
    "print(df3['floors'].value_counts())\n",
    "print(df3['waterfront'].value_counts())\n",
    "print(df3['condition'].value_counts())\n",
    "print(df3['grade'].value_counts())"
   ]
  },
  {
   "cell_type": "code",
   "execution_count": 35,
   "id": "6c41a490",
   "metadata": {},
   "outputs": [],
   "source": [
    "# as we noticed we have some categorical variable so to improve our model we need to make dummies for them :\n",
    "#condition, waterfront , floors, grade, bathrooms and bedrooms"
   ]
  },
  {
   "cell_type": "code",
   "execution_count": 36,
   "id": "d1216d1d",
   "metadata": {},
   "outputs": [
    {
     "data": {
      "text/html": [
       "<div>\n",
       "<style scoped>\n",
       "    .dataframe tbody tr th:only-of-type {\n",
       "        vertical-align: middle;\n",
       "    }\n",
       "\n",
       "    .dataframe tbody tr th {\n",
       "        vertical-align: top;\n",
       "    }\n",
       "\n",
       "    .dataframe thead th {\n",
       "        text-align: right;\n",
       "    }\n",
       "</style>\n",
       "<table border=\"1\" class=\"dataframe\">\n",
       "  <thead>\n",
       "    <tr style=\"text-align: right;\">\n",
       "      <th></th>\n",
       "      <th>price</th>\n",
       "      <th>bedrooms</th>\n",
       "      <th>bathrooms</th>\n",
       "      <th>sqft_living</th>\n",
       "      <th>floors</th>\n",
       "      <th>waterfront</th>\n",
       "      <th>condition</th>\n",
       "      <th>grade</th>\n",
       "    </tr>\n",
       "  </thead>\n",
       "  <tbody>\n",
       "    <tr>\n",
       "      <th>1</th>\n",
       "      <td>538000.0</td>\n",
       "      <td>3</td>\n",
       "      <td>2.25</td>\n",
       "      <td>2570</td>\n",
       "      <td>2.0</td>\n",
       "      <td>0.0</td>\n",
       "      <td>3</td>\n",
       "      <td>7</td>\n",
       "    </tr>\n",
       "    <tr>\n",
       "      <th>2</th>\n",
       "      <td>180000.0</td>\n",
       "      <td>2</td>\n",
       "      <td>1.00</td>\n",
       "      <td>770</td>\n",
       "      <td>1.0</td>\n",
       "      <td>0.0</td>\n",
       "      <td>3</td>\n",
       "      <td>6</td>\n",
       "    </tr>\n",
       "    <tr>\n",
       "      <th>3</th>\n",
       "      <td>604000.0</td>\n",
       "      <td>4</td>\n",
       "      <td>3.00</td>\n",
       "      <td>1960</td>\n",
       "      <td>1.0</td>\n",
       "      <td>0.0</td>\n",
       "      <td>5</td>\n",
       "      <td>7</td>\n",
       "    </tr>\n",
       "    <tr>\n",
       "      <th>4</th>\n",
       "      <td>510000.0</td>\n",
       "      <td>3</td>\n",
       "      <td>2.00</td>\n",
       "      <td>1680</td>\n",
       "      <td>1.0</td>\n",
       "      <td>0.0</td>\n",
       "      <td>3</td>\n",
       "      <td>8</td>\n",
       "    </tr>\n",
       "    <tr>\n",
       "      <th>6</th>\n",
       "      <td>257500.0</td>\n",
       "      <td>3</td>\n",
       "      <td>2.25</td>\n",
       "      <td>1715</td>\n",
       "      <td>2.0</td>\n",
       "      <td>0.0</td>\n",
       "      <td>3</td>\n",
       "      <td>7</td>\n",
       "    </tr>\n",
       "  </tbody>\n",
       "</table>\n",
       "</div>"
      ],
      "text/plain": [
       "      price  bedrooms  bathrooms  sqft_living  floors  waterfront  condition  \\\n",
       "1  538000.0         3       2.25         2570     2.0         0.0          3   \n",
       "2  180000.0         2       1.00          770     1.0         0.0          3   \n",
       "3  604000.0         4       3.00         1960     1.0         0.0          5   \n",
       "4  510000.0         3       2.00         1680     1.0         0.0          3   \n",
       "6  257500.0         3       2.25         1715     2.0         0.0          3   \n",
       "\n",
       "   grade  \n",
       "1      7  \n",
       "2      6  \n",
       "3      7  \n",
       "4      8  \n",
       "6      7  "
      ]
     },
     "execution_count": 36,
     "metadata": {},
     "output_type": "execute_result"
    }
   ],
   "source": [
    "df3.head()"
   ]
  },
  {
   "cell_type": "markdown",
   "id": "77feceb7",
   "metadata": {},
   "source": [
    "# Grouping categorical data for creating dummies"
   ]
  },
  {
   "cell_type": "code",
   "execution_count": 37,
   "id": "467e69f9",
   "metadata": {},
   "outputs": [],
   "source": [
    "#df4= df3.copy()\n",
    "#df4['condition']=pd.cut(df3['condition'], bins=[0, 2, 3, 5], labels=['Low','Medium','High'])\n",
    "#df4.head()\n"
   ]
  },
  {
   "cell_type": "code",
   "execution_count": 38,
   "id": "965a5279",
   "metadata": {
    "scrolled": true
   },
   "outputs": [],
   "source": [
    "#df5=df4.copy()\n",
    "#df5['grade'] = pd.cut(df5['grade'], bins=[0, 5, 7, 9], labels=['Fair', 'Good', 'Excelent'])\n",
    "\n",
    "#df5.head()\n"
   ]
  },
  {
   "cell_type": "code",
   "execution_count": 39,
   "id": "d192639c",
   "metadata": {
    "scrolled": true
   },
   "outputs": [],
   "source": [
    "#df6=df5.copy()\n",
    "#df6['bedrooms'] = pd.cut(df5['bedrooms'], bins=[0, 2, 4, 5], labels=['small', 'medium', 'large'])\n",
    "\n",
    "#df6.head()"
   ]
  },
  {
   "cell_type": "code",
   "execution_count": 40,
   "id": "7d9714b4",
   "metadata": {
    "scrolled": true
   },
   "outputs": [
    {
     "data": {
      "text/html": [
       "<div>\n",
       "<style scoped>\n",
       "    .dataframe tbody tr th:only-of-type {\n",
       "        vertical-align: middle;\n",
       "    }\n",
       "\n",
       "    .dataframe tbody tr th {\n",
       "        vertical-align: top;\n",
       "    }\n",
       "\n",
       "    .dataframe thead th {\n",
       "        text-align: right;\n",
       "    }\n",
       "</style>\n",
       "<table border=\"1\" class=\"dataframe\">\n",
       "  <thead>\n",
       "    <tr style=\"text-align: right;\">\n",
       "      <th></th>\n",
       "      <th>price</th>\n",
       "      <th>bedrooms</th>\n",
       "      <th>bathrooms</th>\n",
       "      <th>sqft_living</th>\n",
       "      <th>floors</th>\n",
       "      <th>waterfront</th>\n",
       "      <th>condition</th>\n",
       "      <th>grade</th>\n",
       "    </tr>\n",
       "  </thead>\n",
       "  <tbody>\n",
       "    <tr>\n",
       "      <th>1</th>\n",
       "      <td>538000.0</td>\n",
       "      <td>3</td>\n",
       "      <td>2.25</td>\n",
       "      <td>2570</td>\n",
       "      <td>L2</td>\n",
       "      <td>0.0</td>\n",
       "      <td>3</td>\n",
       "      <td>7</td>\n",
       "    </tr>\n",
       "    <tr>\n",
       "      <th>2</th>\n",
       "      <td>180000.0</td>\n",
       "      <td>2</td>\n",
       "      <td>1.00</td>\n",
       "      <td>770</td>\n",
       "      <td>L1</td>\n",
       "      <td>0.0</td>\n",
       "      <td>3</td>\n",
       "      <td>6</td>\n",
       "    </tr>\n",
       "    <tr>\n",
       "      <th>3</th>\n",
       "      <td>604000.0</td>\n",
       "      <td>4</td>\n",
       "      <td>3.00</td>\n",
       "      <td>1960</td>\n",
       "      <td>L1</td>\n",
       "      <td>0.0</td>\n",
       "      <td>5</td>\n",
       "      <td>7</td>\n",
       "    </tr>\n",
       "    <tr>\n",
       "      <th>4</th>\n",
       "      <td>510000.0</td>\n",
       "      <td>3</td>\n",
       "      <td>2.00</td>\n",
       "      <td>1680</td>\n",
       "      <td>L1</td>\n",
       "      <td>0.0</td>\n",
       "      <td>3</td>\n",
       "      <td>8</td>\n",
       "    </tr>\n",
       "    <tr>\n",
       "      <th>6</th>\n",
       "      <td>257500.0</td>\n",
       "      <td>3</td>\n",
       "      <td>2.25</td>\n",
       "      <td>1715</td>\n",
       "      <td>L2</td>\n",
       "      <td>0.0</td>\n",
       "      <td>3</td>\n",
       "      <td>7</td>\n",
       "    </tr>\n",
       "  </tbody>\n",
       "</table>\n",
       "</div>"
      ],
      "text/plain": [
       "      price  bedrooms  bathrooms  sqft_living floors  waterfront  condition  \\\n",
       "1  538000.0         3       2.25         2570     L2         0.0          3   \n",
       "2  180000.0         2       1.00          770     L1         0.0          3   \n",
       "3  604000.0         4       3.00         1960     L1         0.0          5   \n",
       "4  510000.0         3       2.00         1680     L1         0.0          3   \n",
       "6  257500.0         3       2.25         1715     L2         0.0          3   \n",
       "\n",
       "   grade  \n",
       "1      7  \n",
       "2      6  \n",
       "3      7  \n",
       "4      8  \n",
       "6      7  "
      ]
     },
     "execution_count": 40,
     "metadata": {},
     "output_type": "execute_result"
    }
   ],
   "source": [
    "df4= df3.copy()\n",
    "df4['floors']=pd.cut(df3['floors'], bins=[0,1.5,2.5,3.5], labels=['L1','L2','L3'])\n",
    "df4.head()"
   ]
  },
  {
   "cell_type": "code",
   "execution_count": 41,
   "id": "df049e54",
   "metadata": {},
   "outputs": [
    {
     "data": {
      "text/html": [
       "<div>\n",
       "<style scoped>\n",
       "    .dataframe tbody tr th:only-of-type {\n",
       "        vertical-align: middle;\n",
       "    }\n",
       "\n",
       "    .dataframe tbody tr th {\n",
       "        vertical-align: top;\n",
       "    }\n",
       "\n",
       "    .dataframe thead th {\n",
       "        text-align: right;\n",
       "    }\n",
       "</style>\n",
       "<table border=\"1\" class=\"dataframe\">\n",
       "  <thead>\n",
       "    <tr style=\"text-align: right;\">\n",
       "      <th></th>\n",
       "      <th>price</th>\n",
       "      <th>bedrooms</th>\n",
       "      <th>bathrooms</th>\n",
       "      <th>sqft_living</th>\n",
       "      <th>floors</th>\n",
       "      <th>waterfront</th>\n",
       "      <th>condition</th>\n",
       "      <th>grade</th>\n",
       "    </tr>\n",
       "  </thead>\n",
       "  <tbody>\n",
       "    <tr>\n",
       "      <th>1</th>\n",
       "      <td>538000.0</td>\n",
       "      <td>3</td>\n",
       "      <td>Medium</td>\n",
       "      <td>2570</td>\n",
       "      <td>L2</td>\n",
       "      <td>0.0</td>\n",
       "      <td>3</td>\n",
       "      <td>7</td>\n",
       "    </tr>\n",
       "    <tr>\n",
       "      <th>2</th>\n",
       "      <td>180000.0</td>\n",
       "      <td>2</td>\n",
       "      <td>Small</td>\n",
       "      <td>770</td>\n",
       "      <td>L1</td>\n",
       "      <td>0.0</td>\n",
       "      <td>3</td>\n",
       "      <td>6</td>\n",
       "    </tr>\n",
       "    <tr>\n",
       "      <th>3</th>\n",
       "      <td>604000.0</td>\n",
       "      <td>4</td>\n",
       "      <td>Medium</td>\n",
       "      <td>1960</td>\n",
       "      <td>L1</td>\n",
       "      <td>0.0</td>\n",
       "      <td>5</td>\n",
       "      <td>7</td>\n",
       "    </tr>\n",
       "    <tr>\n",
       "      <th>4</th>\n",
       "      <td>510000.0</td>\n",
       "      <td>3</td>\n",
       "      <td>Small</td>\n",
       "      <td>1680</td>\n",
       "      <td>L1</td>\n",
       "      <td>0.0</td>\n",
       "      <td>3</td>\n",
       "      <td>8</td>\n",
       "    </tr>\n",
       "    <tr>\n",
       "      <th>6</th>\n",
       "      <td>257500.0</td>\n",
       "      <td>3</td>\n",
       "      <td>Medium</td>\n",
       "      <td>1715</td>\n",
       "      <td>L2</td>\n",
       "      <td>0.0</td>\n",
       "      <td>3</td>\n",
       "      <td>7</td>\n",
       "    </tr>\n",
       "  </tbody>\n",
       "</table>\n",
       "</div>"
      ],
      "text/plain": [
       "      price  bedrooms bathrooms  sqft_living floors  waterfront  condition  \\\n",
       "1  538000.0         3    Medium         2570     L2         0.0          3   \n",
       "2  180000.0         2     Small          770     L1         0.0          3   \n",
       "3  604000.0         4    Medium         1960     L1         0.0          5   \n",
       "4  510000.0         3     Small         1680     L1         0.0          3   \n",
       "6  257500.0         3    Medium         1715     L2         0.0          3   \n",
       "\n",
       "   grade  \n",
       "1      7  \n",
       "2      6  \n",
       "3      7  \n",
       "4      8  \n",
       "6      7  "
      ]
     },
     "execution_count": 41,
     "metadata": {},
     "output_type": "execute_result"
    }
   ],
   "source": [
    "df5=df4.copy()\n",
    "df5['bathrooms'] = pd.cut(df4['bathrooms'], bins=[0, 2, 4, 5], labels=['Small', 'Medium', 'Large'])\n",
    "df5.head()"
   ]
  },
  {
   "cell_type": "code",
   "execution_count": 42,
   "id": "6fb856bf",
   "metadata": {},
   "outputs": [
    {
     "data": {
      "text/plain": [
       "(16996, 8)"
      ]
     },
     "execution_count": 42,
     "metadata": {},
     "output_type": "execute_result"
    }
   ],
   "source": [
    "df5.shape"
   ]
  },
  {
   "cell_type": "markdown",
   "id": "9ef82099",
   "metadata": {},
   "source": [
    "# Create Dummies for each group "
   ]
  },
  {
   "cell_type": "code",
   "execution_count": 43,
   "id": "66ba062e",
   "metadata": {},
   "outputs": [],
   "source": [
    "condition_dummies = pd.get_dummies(df5['condition'], prefix=\"con\", drop_first=True)\n",
    "bedrooms_dummies = pd.get_dummies(df5['bedrooms'], prefix=\"bed\", drop_first=True)\n",
    "floors_dummies = pd.get_dummies(df5['floors'], prefix=\"floor\", drop_first=True)\n",
    "bathrooms_dummies = pd.get_dummies(df5['bathrooms'], prefix=\"bath\", drop_first=True)\n",
    "waterfront_dummies = pd.get_dummies(df5['waterfront'], prefix=\"water\", drop_first=True)\n",
    "grade_dummies = pd.get_dummies(df5['grade'], prefix=\"grade\", drop_first=True)\n",
    "df5.drop(columns=['condition', 'bedrooms', 'floors', 'bathrooms', 'waterfront', 'grade'], inplace=True)"
   ]
  },
  {
   "cell_type": "code",
   "execution_count": 44,
   "id": "48d2d083",
   "metadata": {},
   "outputs": [],
   "source": [
    "df6 = pd.concat([df5, condition_dummies, bedrooms_dummies, floors_dummies, \n",
    "                 bathrooms_dummies, waterfront_dummies, grade_dummies], axis=1)"
   ]
  },
  {
   "cell_type": "code",
   "execution_count": 45,
   "id": "9cba2e20",
   "metadata": {
    "scrolled": false
   },
   "outputs": [
    {
     "data": {
      "text/html": [
       "<div>\n",
       "<style scoped>\n",
       "    .dataframe tbody tr th:only-of-type {\n",
       "        vertical-align: middle;\n",
       "    }\n",
       "\n",
       "    .dataframe tbody tr th {\n",
       "        vertical-align: top;\n",
       "    }\n",
       "\n",
       "    .dataframe thead th {\n",
       "        text-align: right;\n",
       "    }\n",
       "</style>\n",
       "<table border=\"1\" class=\"dataframe\">\n",
       "  <thead>\n",
       "    <tr style=\"text-align: right;\">\n",
       "      <th></th>\n",
       "      <th>price</th>\n",
       "      <th>sqft_living</th>\n",
       "      <th>con_2</th>\n",
       "      <th>con_3</th>\n",
       "      <th>con_4</th>\n",
       "      <th>con_5</th>\n",
       "      <th>bed_3</th>\n",
       "      <th>bed_4</th>\n",
       "      <th>bed_5</th>\n",
       "      <th>floor_L2</th>\n",
       "      <th>floor_L3</th>\n",
       "      <th>bath_Medium</th>\n",
       "      <th>bath_Large</th>\n",
       "      <th>water_1.0</th>\n",
       "      <th>grade_7</th>\n",
       "      <th>grade_8</th>\n",
       "      <th>grade_9</th>\n",
       "    </tr>\n",
       "  </thead>\n",
       "  <tbody>\n",
       "    <tr>\n",
       "      <th>1</th>\n",
       "      <td>538000.0</td>\n",
       "      <td>2570</td>\n",
       "      <td>False</td>\n",
       "      <td>True</td>\n",
       "      <td>False</td>\n",
       "      <td>False</td>\n",
       "      <td>True</td>\n",
       "      <td>False</td>\n",
       "      <td>False</td>\n",
       "      <td>True</td>\n",
       "      <td>False</td>\n",
       "      <td>True</td>\n",
       "      <td>False</td>\n",
       "      <td>False</td>\n",
       "      <td>True</td>\n",
       "      <td>False</td>\n",
       "      <td>False</td>\n",
       "    </tr>\n",
       "    <tr>\n",
       "      <th>2</th>\n",
       "      <td>180000.0</td>\n",
       "      <td>770</td>\n",
       "      <td>False</td>\n",
       "      <td>True</td>\n",
       "      <td>False</td>\n",
       "      <td>False</td>\n",
       "      <td>False</td>\n",
       "      <td>False</td>\n",
       "      <td>False</td>\n",
       "      <td>False</td>\n",
       "      <td>False</td>\n",
       "      <td>False</td>\n",
       "      <td>False</td>\n",
       "      <td>False</td>\n",
       "      <td>False</td>\n",
       "      <td>False</td>\n",
       "      <td>False</td>\n",
       "    </tr>\n",
       "    <tr>\n",
       "      <th>3</th>\n",
       "      <td>604000.0</td>\n",
       "      <td>1960</td>\n",
       "      <td>False</td>\n",
       "      <td>False</td>\n",
       "      <td>False</td>\n",
       "      <td>True</td>\n",
       "      <td>False</td>\n",
       "      <td>True</td>\n",
       "      <td>False</td>\n",
       "      <td>False</td>\n",
       "      <td>False</td>\n",
       "      <td>True</td>\n",
       "      <td>False</td>\n",
       "      <td>False</td>\n",
       "      <td>True</td>\n",
       "      <td>False</td>\n",
       "      <td>False</td>\n",
       "    </tr>\n",
       "    <tr>\n",
       "      <th>4</th>\n",
       "      <td>510000.0</td>\n",
       "      <td>1680</td>\n",
       "      <td>False</td>\n",
       "      <td>True</td>\n",
       "      <td>False</td>\n",
       "      <td>False</td>\n",
       "      <td>True</td>\n",
       "      <td>False</td>\n",
       "      <td>False</td>\n",
       "      <td>False</td>\n",
       "      <td>False</td>\n",
       "      <td>False</td>\n",
       "      <td>False</td>\n",
       "      <td>False</td>\n",
       "      <td>False</td>\n",
       "      <td>True</td>\n",
       "      <td>False</td>\n",
       "    </tr>\n",
       "    <tr>\n",
       "      <th>6</th>\n",
       "      <td>257500.0</td>\n",
       "      <td>1715</td>\n",
       "      <td>False</td>\n",
       "      <td>True</td>\n",
       "      <td>False</td>\n",
       "      <td>False</td>\n",
       "      <td>True</td>\n",
       "      <td>False</td>\n",
       "      <td>False</td>\n",
       "      <td>True</td>\n",
       "      <td>False</td>\n",
       "      <td>True</td>\n",
       "      <td>False</td>\n",
       "      <td>False</td>\n",
       "      <td>True</td>\n",
       "      <td>False</td>\n",
       "      <td>False</td>\n",
       "    </tr>\n",
       "  </tbody>\n",
       "</table>\n",
       "</div>"
      ],
      "text/plain": [
       "      price  sqft_living  con_2  con_3  con_4  con_5  bed_3  bed_4  bed_5  \\\n",
       "1  538000.0         2570  False   True  False  False   True  False  False   \n",
       "2  180000.0          770  False   True  False  False  False  False  False   \n",
       "3  604000.0         1960  False  False  False   True  False   True  False   \n",
       "4  510000.0         1680  False   True  False  False   True  False  False   \n",
       "6  257500.0         1715  False   True  False  False   True  False  False   \n",
       "\n",
       "   floor_L2  floor_L3  bath_Medium  bath_Large  water_1.0  grade_7  grade_8  \\\n",
       "1      True     False         True       False      False     True    False   \n",
       "2     False     False        False       False      False    False    False   \n",
       "3     False     False         True       False      False     True    False   \n",
       "4     False     False        False       False      False    False     True   \n",
       "6      True     False         True       False      False     True    False   \n",
       "\n",
       "   grade_9  \n",
       "1    False  \n",
       "2    False  \n",
       "3    False  \n",
       "4    False  \n",
       "6    False  "
      ]
     },
     "execution_count": 45,
     "metadata": {},
     "output_type": "execute_result"
    }
   ],
   "source": [
    "df6.head()"
   ]
  },
  {
   "cell_type": "code",
   "execution_count": 46,
   "id": "0c429460",
   "metadata": {},
   "outputs": [],
   "source": [
    "#changing dummy columns type to integer\n",
    "#dummy_columns = df9.columns[df9.columns.str.startswith('con_') | df9.columns.str.startswith('bed_') | df9.columns.str.startswith('floor_') | df9.columns.str.startswith('bath_') | df9.columns.str.startswith('water_') | df9.columns.str.startswith('grade_') ]\n",
    "#df9[dummy_columns] = df9[dummy_columns].astype(int)"
   ]
  },
  {
   "cell_type": "code",
   "execution_count": 47,
   "id": "78349434",
   "metadata": {
    "scrolled": false
   },
   "outputs": [
    {
     "data": {
      "text/plain": [
       "(16996, 17)"
      ]
     },
     "execution_count": 47,
     "metadata": {},
     "output_type": "execute_result"
    }
   ],
   "source": [
    "df6.shape"
   ]
  },
  {
   "cell_type": "markdown",
   "id": "8b9e557c",
   "metadata": {},
   "source": [
    "# Checking Multicollinearity:"
   ]
  },
  {
   "cell_type": "code",
   "execution_count": 48,
   "id": "285f55fa",
   "metadata": {},
   "outputs": [],
   "source": [
    "bool_columns = ['con_2', 'con_3', 'con_4', 'con_5', 'bed_3',\n",
    "                'bed_4', 'bed_5', 'floor_L2', 'floor_L3', 'bath_Medium','bath_Large','water_1.0','grade_7','grade_8','grade_9', ]\n",
    "\n",
    "df6[bool_columns] = df6[bool_columns].astype(int)"
   ]
  },
  {
   "cell_type": "code",
   "execution_count": 49,
   "id": "99ad0aa9",
   "metadata": {
    "scrolled": false
   },
   "outputs": [
    {
     "data": {
      "text/html": [
       "<div>\n",
       "<style scoped>\n",
       "    .dataframe tbody tr th:only-of-type {\n",
       "        vertical-align: middle;\n",
       "    }\n",
       "\n",
       "    .dataframe tbody tr th {\n",
       "        vertical-align: top;\n",
       "    }\n",
       "\n",
       "    .dataframe thead th {\n",
       "        text-align: right;\n",
       "    }\n",
       "</style>\n",
       "<table border=\"1\" class=\"dataframe\">\n",
       "  <thead>\n",
       "    <tr style=\"text-align: right;\">\n",
       "      <th></th>\n",
       "      <th>price</th>\n",
       "      <th>con_2</th>\n",
       "      <th>con_3</th>\n",
       "      <th>con_4</th>\n",
       "      <th>con_5</th>\n",
       "      <th>bed_3</th>\n",
       "      <th>bed_4</th>\n",
       "      <th>bed_5</th>\n",
       "      <th>floor_L2</th>\n",
       "      <th>floor_L3</th>\n",
       "      <th>bath_Medium</th>\n",
       "      <th>bath_Large</th>\n",
       "      <th>water_1.0</th>\n",
       "      <th>grade_7</th>\n",
       "      <th>grade_8</th>\n",
       "      <th>grade_9</th>\n",
       "    </tr>\n",
       "  </thead>\n",
       "  <tbody>\n",
       "    <tr>\n",
       "      <th>1</th>\n",
       "      <td>538000.0</td>\n",
       "      <td>0</td>\n",
       "      <td>1</td>\n",
       "      <td>0</td>\n",
       "      <td>0</td>\n",
       "      <td>1</td>\n",
       "      <td>0</td>\n",
       "      <td>0</td>\n",
       "      <td>1</td>\n",
       "      <td>0</td>\n",
       "      <td>1</td>\n",
       "      <td>0</td>\n",
       "      <td>0</td>\n",
       "      <td>1</td>\n",
       "      <td>0</td>\n",
       "      <td>0</td>\n",
       "    </tr>\n",
       "    <tr>\n",
       "      <th>2</th>\n",
       "      <td>180000.0</td>\n",
       "      <td>0</td>\n",
       "      <td>1</td>\n",
       "      <td>0</td>\n",
       "      <td>0</td>\n",
       "      <td>0</td>\n",
       "      <td>0</td>\n",
       "      <td>0</td>\n",
       "      <td>0</td>\n",
       "      <td>0</td>\n",
       "      <td>0</td>\n",
       "      <td>0</td>\n",
       "      <td>0</td>\n",
       "      <td>0</td>\n",
       "      <td>0</td>\n",
       "      <td>0</td>\n",
       "    </tr>\n",
       "    <tr>\n",
       "      <th>3</th>\n",
       "      <td>604000.0</td>\n",
       "      <td>0</td>\n",
       "      <td>0</td>\n",
       "      <td>0</td>\n",
       "      <td>1</td>\n",
       "      <td>0</td>\n",
       "      <td>1</td>\n",
       "      <td>0</td>\n",
       "      <td>0</td>\n",
       "      <td>0</td>\n",
       "      <td>1</td>\n",
       "      <td>0</td>\n",
       "      <td>0</td>\n",
       "      <td>1</td>\n",
       "      <td>0</td>\n",
       "      <td>0</td>\n",
       "    </tr>\n",
       "    <tr>\n",
       "      <th>4</th>\n",
       "      <td>510000.0</td>\n",
       "      <td>0</td>\n",
       "      <td>1</td>\n",
       "      <td>0</td>\n",
       "      <td>0</td>\n",
       "      <td>1</td>\n",
       "      <td>0</td>\n",
       "      <td>0</td>\n",
       "      <td>0</td>\n",
       "      <td>0</td>\n",
       "      <td>0</td>\n",
       "      <td>0</td>\n",
       "      <td>0</td>\n",
       "      <td>0</td>\n",
       "      <td>1</td>\n",
       "      <td>0</td>\n",
       "    </tr>\n",
       "    <tr>\n",
       "      <th>6</th>\n",
       "      <td>257500.0</td>\n",
       "      <td>0</td>\n",
       "      <td>1</td>\n",
       "      <td>0</td>\n",
       "      <td>0</td>\n",
       "      <td>1</td>\n",
       "      <td>0</td>\n",
       "      <td>0</td>\n",
       "      <td>1</td>\n",
       "      <td>0</td>\n",
       "      <td>1</td>\n",
       "      <td>0</td>\n",
       "      <td>0</td>\n",
       "      <td>1</td>\n",
       "      <td>0</td>\n",
       "      <td>0</td>\n",
       "    </tr>\n",
       "  </tbody>\n",
       "</table>\n",
       "</div>"
      ],
      "text/plain": [
       "      price  con_2  con_3  con_4  con_5  bed_3  bed_4  bed_5  floor_L2  \\\n",
       "1  538000.0      0      1      0      0      1      0      0         1   \n",
       "2  180000.0      0      1      0      0      0      0      0         0   \n",
       "3  604000.0      0      0      0      1      0      1      0         0   \n",
       "4  510000.0      0      1      0      0      1      0      0         0   \n",
       "6  257500.0      0      1      0      0      1      0      0         1   \n",
       "\n",
       "   floor_L3  bath_Medium  bath_Large  water_1.0  grade_7  grade_8  grade_9  \n",
       "1         0            1           0          0        1        0        0  \n",
       "2         0            0           0          0        0        0        0  \n",
       "3         0            1           0          0        1        0        0  \n",
       "4         0            0           0          0        0        1        0  \n",
       "6         0            1           0          0        1        0        0  "
      ]
     },
     "execution_count": 49,
     "metadata": {},
     "output_type": "execute_result"
    }
   ],
   "source": [
    "data_pred = df6.iloc[:, np.r_[0, 2:17]]\n",
    "data_pred.head()"
   ]
  },
  {
   "cell_type": "code",
   "execution_count": 50,
   "id": "eae0c48e",
   "metadata": {},
   "outputs": [
    {
     "data": {
      "text/html": [
       "<div>\n",
       "<style scoped>\n",
       "    .dataframe tbody tr th:only-of-type {\n",
       "        vertical-align: middle;\n",
       "    }\n",
       "\n",
       "    .dataframe tbody tr th {\n",
       "        vertical-align: top;\n",
       "    }\n",
       "\n",
       "    .dataframe thead th {\n",
       "        text-align: right;\n",
       "    }\n",
       "</style>\n",
       "<table border=\"1\" class=\"dataframe\">\n",
       "  <thead>\n",
       "    <tr style=\"text-align: right;\">\n",
       "      <th></th>\n",
       "      <th>price</th>\n",
       "      <th>con_2</th>\n",
       "      <th>con_3</th>\n",
       "      <th>con_4</th>\n",
       "      <th>con_5</th>\n",
       "      <th>bed_3</th>\n",
       "      <th>bed_4</th>\n",
       "      <th>bed_5</th>\n",
       "      <th>floor_L2</th>\n",
       "      <th>floor_L3</th>\n",
       "      <th>bath_Medium</th>\n",
       "      <th>bath_Large</th>\n",
       "      <th>water_1.0</th>\n",
       "      <th>grade_7</th>\n",
       "      <th>grade_8</th>\n",
       "      <th>grade_9</th>\n",
       "    </tr>\n",
       "  </thead>\n",
       "  <tbody>\n",
       "    <tr>\n",
       "      <th>price</th>\n",
       "      <td>1.000000</td>\n",
       "      <td>-0.059694</td>\n",
       "      <td>-0.052915</td>\n",
       "      <td>0.006874</td>\n",
       "      <td>0.102054</td>\n",
       "      <td>-0.159560</td>\n",
       "      <td>0.190212</td>\n",
       "      <td>0.143484</td>\n",
       "      <td>0.182206</td>\n",
       "      <td>0.026391</td>\n",
       "      <td>0.299368</td>\n",
       "      <td>0.060163</td>\n",
       "      <td>0.171932</td>\n",
       "      <td>-0.309568</td>\n",
       "      <td>0.162097</td>\n",
       "      <td>0.465068</td>\n",
       "    </tr>\n",
       "    <tr>\n",
       "      <th>con_2</th>\n",
       "      <td>-0.059694</td>\n",
       "      <td>1.000000</td>\n",
       "      <td>-0.115433</td>\n",
       "      <td>-0.053382</td>\n",
       "      <td>-0.025947</td>\n",
       "      <td>-0.008698</td>\n",
       "      <td>-0.015687</td>\n",
       "      <td>-0.020637</td>\n",
       "      <td>-0.043551</td>\n",
       "      <td>-0.015072</td>\n",
       "      <td>-0.059823</td>\n",
       "      <td>-0.003343</td>\n",
       "      <td>-0.005877</td>\n",
       "      <td>0.010056</td>\n",
       "      <td>-0.039262</td>\n",
       "      <td>-0.031682</td>\n",
       "    </tr>\n",
       "    <tr>\n",
       "      <th>con_3</th>\n",
       "      <td>-0.052915</td>\n",
       "      <td>-0.115433</td>\n",
       "      <td>1.000000</td>\n",
       "      <td>-0.812040</td>\n",
       "      <td>-0.394700</td>\n",
       "      <td>-0.004199</td>\n",
       "      <td>0.008407</td>\n",
       "      <td>-0.020717</td>\n",
       "      <td>0.301592</td>\n",
       "      <td>0.124741</td>\n",
       "      <td>0.213697</td>\n",
       "      <td>0.003420</td>\n",
       "      <td>-0.021976</td>\n",
       "      <td>-0.111220</td>\n",
       "      <td>0.098122</td>\n",
       "      <td>0.115989</td>\n",
       "    </tr>\n",
       "    <tr>\n",
       "      <th>con_4</th>\n",
       "      <td>0.006874</td>\n",
       "      <td>-0.053382</td>\n",
       "      <td>-0.812040</td>\n",
       "      <td>1.000000</td>\n",
       "      <td>-0.182528</td>\n",
       "      <td>0.017286</td>\n",
       "      <td>-0.018749</td>\n",
       "      <td>0.015191</td>\n",
       "      <td>-0.234617</td>\n",
       "      <td>-0.102096</td>\n",
       "      <td>-0.170439</td>\n",
       "      <td>-0.006290</td>\n",
       "      <td>0.017657</td>\n",
       "      <td>0.092345</td>\n",
       "      <td>-0.070094</td>\n",
       "      <td>-0.088363</td>\n",
       "    </tr>\n",
       "    <tr>\n",
       "      <th>con_5</th>\n",
       "      <td>0.102054</td>\n",
       "      <td>-0.025947</td>\n",
       "      <td>-0.394700</td>\n",
       "      <td>-0.182528</td>\n",
       "      <td>1.000000</td>\n",
       "      <td>-0.017667</td>\n",
       "      <td>0.021800</td>\n",
       "      <td>0.019001</td>\n",
       "      <td>-0.132440</td>\n",
       "      <td>-0.047695</td>\n",
       "      <td>-0.076640</td>\n",
       "      <td>0.005403</td>\n",
       "      <td>0.011930</td>\n",
       "      <td>0.042957</td>\n",
       "      <td>-0.044346</td>\n",
       "      <td>-0.048783</td>\n",
       "    </tr>\n",
       "    <tr>\n",
       "      <th>bed_3</th>\n",
       "      <td>-0.159560</td>\n",
       "      <td>-0.008698</td>\n",
       "      <td>-0.004199</td>\n",
       "      <td>0.017286</td>\n",
       "      <td>-0.017667</td>\n",
       "      <td>1.000000</td>\n",
       "      <td>-0.653360</td>\n",
       "      <td>-0.261467</td>\n",
       "      <td>-0.099197</td>\n",
       "      <td>0.071626</td>\n",
       "      <td>-0.132369</td>\n",
       "      <td>-0.034355</td>\n",
       "      <td>-0.014952</td>\n",
       "      <td>0.133256</td>\n",
       "      <td>-0.025746</td>\n",
       "      <td>-0.128592</td>\n",
       "    </tr>\n",
       "    <tr>\n",
       "      <th>bed_4</th>\n",
       "      <td>0.190212</td>\n",
       "      <td>-0.015687</td>\n",
       "      <td>0.008407</td>\n",
       "      <td>-0.018749</td>\n",
       "      <td>0.021800</td>\n",
       "      <td>-0.653360</td>\n",
       "      <td>1.000000</td>\n",
       "      <td>-0.179658</td>\n",
       "      <td>0.194902</td>\n",
       "      <td>-0.084874</td>\n",
       "      <td>0.280882</td>\n",
       "      <td>0.017443</td>\n",
       "      <td>-0.011098</td>\n",
       "      <td>-0.124466</td>\n",
       "      <td>0.086786</td>\n",
       "      <td>0.188787</td>\n",
       "    </tr>\n",
       "    <tr>\n",
       "      <th>bed_5</th>\n",
       "      <td>0.143484</td>\n",
       "      <td>-0.020637</td>\n",
       "      <td>-0.020717</td>\n",
       "      <td>0.015191</td>\n",
       "      <td>0.019001</td>\n",
       "      <td>-0.261467</td>\n",
       "      <td>-0.179658</td>\n",
       "      <td>1.000000</td>\n",
       "      <td>0.033583</td>\n",
       "      <td>-0.040792</td>\n",
       "      <td>0.133877</td>\n",
       "      <td>0.057218</td>\n",
       "      <td>0.002925</td>\n",
       "      <td>-0.038353</td>\n",
       "      <td>0.029285</td>\n",
       "      <td>0.071684</td>\n",
       "    </tr>\n",
       "    <tr>\n",
       "      <th>floor_L2</th>\n",
       "      <td>0.182206</td>\n",
       "      <td>-0.043551</td>\n",
       "      <td>0.301592</td>\n",
       "      <td>-0.234617</td>\n",
       "      <td>-0.132440</td>\n",
       "      <td>-0.099197</td>\n",
       "      <td>0.194902</td>\n",
       "      <td>0.033583</td>\n",
       "      <td>1.000000</td>\n",
       "      <td>-0.128829</td>\n",
       "      <td>0.564841</td>\n",
       "      <td>0.029111</td>\n",
       "      <td>-0.002677</td>\n",
       "      <td>-0.270451</td>\n",
       "      <td>0.202289</td>\n",
       "      <td>0.325818</td>\n",
       "    </tr>\n",
       "    <tr>\n",
       "      <th>floor_L3</th>\n",
       "      <td>0.026391</td>\n",
       "      <td>-0.015072</td>\n",
       "      <td>0.124741</td>\n",
       "      <td>-0.102096</td>\n",
       "      <td>-0.047695</td>\n",
       "      <td>0.071626</td>\n",
       "      <td>-0.084874</td>\n",
       "      <td>-0.040792</td>\n",
       "      <td>-0.128829</td>\n",
       "      <td>1.000000</td>\n",
       "      <td>0.096012</td>\n",
       "      <td>0.011637</td>\n",
       "      <td>-0.001242</td>\n",
       "      <td>-0.095817</td>\n",
       "      <td>0.138471</td>\n",
       "      <td>0.003828</td>\n",
       "    </tr>\n",
       "    <tr>\n",
       "      <th>bath_Medium</th>\n",
       "      <td>0.299368</td>\n",
       "      <td>-0.059823</td>\n",
       "      <td>0.213697</td>\n",
       "      <td>-0.170439</td>\n",
       "      <td>-0.076640</td>\n",
       "      <td>-0.132369</td>\n",
       "      <td>0.280882</td>\n",
       "      <td>0.133877</td>\n",
       "      <td>0.564841</td>\n",
       "      <td>0.096012</td>\n",
       "      <td>1.000000</td>\n",
       "      <td>-0.037158</td>\n",
       "      <td>0.010074</td>\n",
       "      <td>-0.320669</td>\n",
       "      <td>0.308980</td>\n",
       "      <td>0.328969</td>\n",
       "    </tr>\n",
       "    <tr>\n",
       "      <th>bath_Large</th>\n",
       "      <td>0.060163</td>\n",
       "      <td>-0.003343</td>\n",
       "      <td>0.003420</td>\n",
       "      <td>-0.006290</td>\n",
       "      <td>0.005403</td>\n",
       "      <td>-0.034355</td>\n",
       "      <td>0.017443</td>\n",
       "      <td>0.057218</td>\n",
       "      <td>0.029111</td>\n",
       "      <td>0.011637</td>\n",
       "      <td>-0.037158</td>\n",
       "      <td>1.000000</td>\n",
       "      <td>0.020271</td>\n",
       "      <td>-0.022964</td>\n",
       "      <td>0.004148</td>\n",
       "      <td>0.039893</td>\n",
       "    </tr>\n",
       "    <tr>\n",
       "      <th>water_1.0</th>\n",
       "      <td>0.171932</td>\n",
       "      <td>-0.005877</td>\n",
       "      <td>-0.021976</td>\n",
       "      <td>0.017657</td>\n",
       "      <td>0.011930</td>\n",
       "      <td>-0.014952</td>\n",
       "      <td>-0.011098</td>\n",
       "      <td>0.002925</td>\n",
       "      <td>-0.002677</td>\n",
       "      <td>-0.001242</td>\n",
       "      <td>0.010074</td>\n",
       "      <td>0.020271</td>\n",
       "      <td>1.000000</td>\n",
       "      <td>-0.026859</td>\n",
       "      <td>0.005927</td>\n",
       "      <td>0.028570</td>\n",
       "    </tr>\n",
       "    <tr>\n",
       "      <th>grade_7</th>\n",
       "      <td>-0.309568</td>\n",
       "      <td>0.010056</td>\n",
       "      <td>-0.111220</td>\n",
       "      <td>0.092345</td>\n",
       "      <td>0.042957</td>\n",
       "      <td>0.133256</td>\n",
       "      <td>-0.124466</td>\n",
       "      <td>-0.038353</td>\n",
       "      <td>-0.270451</td>\n",
       "      <td>-0.095817</td>\n",
       "      <td>-0.320669</td>\n",
       "      <td>-0.022964</td>\n",
       "      <td>-0.026859</td>\n",
       "      <td>1.000000</td>\n",
       "      <td>-0.616308</td>\n",
       "      <td>-0.355743</td>\n",
       "    </tr>\n",
       "    <tr>\n",
       "      <th>grade_8</th>\n",
       "      <td>0.162097</td>\n",
       "      <td>-0.039262</td>\n",
       "      <td>0.098122</td>\n",
       "      <td>-0.070094</td>\n",
       "      <td>-0.044346</td>\n",
       "      <td>-0.025746</td>\n",
       "      <td>0.086786</td>\n",
       "      <td>0.029285</td>\n",
       "      <td>0.202289</td>\n",
       "      <td>0.138471</td>\n",
       "      <td>0.308980</td>\n",
       "      <td>0.004148</td>\n",
       "      <td>0.005927</td>\n",
       "      <td>-0.616308</td>\n",
       "      <td>1.000000</td>\n",
       "      <td>-0.259346</td>\n",
       "    </tr>\n",
       "    <tr>\n",
       "      <th>grade_9</th>\n",
       "      <td>0.465068</td>\n",
       "      <td>-0.031682</td>\n",
       "      <td>0.115989</td>\n",
       "      <td>-0.088363</td>\n",
       "      <td>-0.048783</td>\n",
       "      <td>-0.128592</td>\n",
       "      <td>0.188787</td>\n",
       "      <td>0.071684</td>\n",
       "      <td>0.325818</td>\n",
       "      <td>0.003828</td>\n",
       "      <td>0.328969</td>\n",
       "      <td>0.039893</td>\n",
       "      <td>0.028570</td>\n",
       "      <td>-0.355743</td>\n",
       "      <td>-0.259346</td>\n",
       "      <td>1.000000</td>\n",
       "    </tr>\n",
       "  </tbody>\n",
       "</table>\n",
       "</div>"
      ],
      "text/plain": [
       "                price     con_2     con_3     con_4     con_5     bed_3  \\\n",
       "price        1.000000 -0.059694 -0.052915  0.006874  0.102054 -0.159560   \n",
       "con_2       -0.059694  1.000000 -0.115433 -0.053382 -0.025947 -0.008698   \n",
       "con_3       -0.052915 -0.115433  1.000000 -0.812040 -0.394700 -0.004199   \n",
       "con_4        0.006874 -0.053382 -0.812040  1.000000 -0.182528  0.017286   \n",
       "con_5        0.102054 -0.025947 -0.394700 -0.182528  1.000000 -0.017667   \n",
       "bed_3       -0.159560 -0.008698 -0.004199  0.017286 -0.017667  1.000000   \n",
       "bed_4        0.190212 -0.015687  0.008407 -0.018749  0.021800 -0.653360   \n",
       "bed_5        0.143484 -0.020637 -0.020717  0.015191  0.019001 -0.261467   \n",
       "floor_L2     0.182206 -0.043551  0.301592 -0.234617 -0.132440 -0.099197   \n",
       "floor_L3     0.026391 -0.015072  0.124741 -0.102096 -0.047695  0.071626   \n",
       "bath_Medium  0.299368 -0.059823  0.213697 -0.170439 -0.076640 -0.132369   \n",
       "bath_Large   0.060163 -0.003343  0.003420 -0.006290  0.005403 -0.034355   \n",
       "water_1.0    0.171932 -0.005877 -0.021976  0.017657  0.011930 -0.014952   \n",
       "grade_7     -0.309568  0.010056 -0.111220  0.092345  0.042957  0.133256   \n",
       "grade_8      0.162097 -0.039262  0.098122 -0.070094 -0.044346 -0.025746   \n",
       "grade_9      0.465068 -0.031682  0.115989 -0.088363 -0.048783 -0.128592   \n",
       "\n",
       "                bed_4     bed_5  floor_L2  floor_L3  bath_Medium  bath_Large  \\\n",
       "price        0.190212  0.143484  0.182206  0.026391     0.299368    0.060163   \n",
       "con_2       -0.015687 -0.020637 -0.043551 -0.015072    -0.059823   -0.003343   \n",
       "con_3        0.008407 -0.020717  0.301592  0.124741     0.213697    0.003420   \n",
       "con_4       -0.018749  0.015191 -0.234617 -0.102096    -0.170439   -0.006290   \n",
       "con_5        0.021800  0.019001 -0.132440 -0.047695    -0.076640    0.005403   \n",
       "bed_3       -0.653360 -0.261467 -0.099197  0.071626    -0.132369   -0.034355   \n",
       "bed_4        1.000000 -0.179658  0.194902 -0.084874     0.280882    0.017443   \n",
       "bed_5       -0.179658  1.000000  0.033583 -0.040792     0.133877    0.057218   \n",
       "floor_L2     0.194902  0.033583  1.000000 -0.128829     0.564841    0.029111   \n",
       "floor_L3    -0.084874 -0.040792 -0.128829  1.000000     0.096012    0.011637   \n",
       "bath_Medium  0.280882  0.133877  0.564841  0.096012     1.000000   -0.037158   \n",
       "bath_Large   0.017443  0.057218  0.029111  0.011637    -0.037158    1.000000   \n",
       "water_1.0   -0.011098  0.002925 -0.002677 -0.001242     0.010074    0.020271   \n",
       "grade_7     -0.124466 -0.038353 -0.270451 -0.095817    -0.320669   -0.022964   \n",
       "grade_8      0.086786  0.029285  0.202289  0.138471     0.308980    0.004148   \n",
       "grade_9      0.188787  0.071684  0.325818  0.003828     0.328969    0.039893   \n",
       "\n",
       "             water_1.0   grade_7   grade_8   grade_9  \n",
       "price         0.171932 -0.309568  0.162097  0.465068  \n",
       "con_2        -0.005877  0.010056 -0.039262 -0.031682  \n",
       "con_3        -0.021976 -0.111220  0.098122  0.115989  \n",
       "con_4         0.017657  0.092345 -0.070094 -0.088363  \n",
       "con_5         0.011930  0.042957 -0.044346 -0.048783  \n",
       "bed_3        -0.014952  0.133256 -0.025746 -0.128592  \n",
       "bed_4        -0.011098 -0.124466  0.086786  0.188787  \n",
       "bed_5         0.002925 -0.038353  0.029285  0.071684  \n",
       "floor_L2     -0.002677 -0.270451  0.202289  0.325818  \n",
       "floor_L3     -0.001242 -0.095817  0.138471  0.003828  \n",
       "bath_Medium   0.010074 -0.320669  0.308980  0.328969  \n",
       "bath_Large    0.020271 -0.022964  0.004148  0.039893  \n",
       "water_1.0     1.000000 -0.026859  0.005927  0.028570  \n",
       "grade_7      -0.026859  1.000000 -0.616308 -0.355743  \n",
       "grade_8       0.005927 -0.616308  1.000000 -0.259346  \n",
       "grade_9       0.028570 -0.355743 -0.259346  1.000000  "
      ]
     },
     "execution_count": 50,
     "metadata": {},
     "output_type": "execute_result"
    }
   ],
   "source": [
    "correlation = data_pred.corr()\n",
    "correlation"
   ]
  },
  {
   "cell_type": "code",
   "execution_count": 51,
   "id": "522850bd",
   "metadata": {
    "scrolled": false
   },
   "outputs": [],
   "source": [
    "#data_pred = pd.get_dummies(data_pred, columns=['bedrooms', 'bathrooms', 'floors', 'condition'])\n",
    "#data_pred['waterfront'] = pd.to_numeric(data_pred['waterfront'])\n",
    "#data_pred['grade_Good'] = pd.to_numeric(data_pred['grade_Good'])\n",
    "#data_pred['grade_Excelent'] = pd.to_numeric(data_pred['grade_Excelent'])\n",
    "#correlation=data_pred.corr()\n",
    "#correlation"
   ]
  },
  {
   "cell_type": "code",
   "execution_count": 52,
   "id": "c1b6ab8e",
   "metadata": {
    "scrolled": true
   },
   "outputs": [
    {
     "data": {
      "text/html": [
       "<div>\n",
       "<style scoped>\n",
       "    .dataframe tbody tr th:only-of-type {\n",
       "        vertical-align: middle;\n",
       "    }\n",
       "\n",
       "    .dataframe tbody tr th {\n",
       "        vertical-align: top;\n",
       "    }\n",
       "\n",
       "    .dataframe thead th {\n",
       "        text-align: right;\n",
       "    }\n",
       "</style>\n",
       "<table border=\"1\" class=\"dataframe\">\n",
       "  <thead>\n",
       "    <tr style=\"text-align: right;\">\n",
       "      <th></th>\n",
       "      <th>price</th>\n",
       "      <th>con_2</th>\n",
       "      <th>con_3</th>\n",
       "      <th>con_4</th>\n",
       "      <th>con_5</th>\n",
       "      <th>bed_3</th>\n",
       "      <th>bed_4</th>\n",
       "      <th>bed_5</th>\n",
       "      <th>floor_L2</th>\n",
       "      <th>floor_L3</th>\n",
       "      <th>bath_Medium</th>\n",
       "      <th>bath_Large</th>\n",
       "      <th>water_1.0</th>\n",
       "      <th>grade_7</th>\n",
       "      <th>grade_8</th>\n",
       "      <th>grade_9</th>\n",
       "    </tr>\n",
       "  </thead>\n",
       "  <tbody>\n",
       "    <tr>\n",
       "      <th>price</th>\n",
       "      <td>True</td>\n",
       "      <td>False</td>\n",
       "      <td>False</td>\n",
       "      <td>False</td>\n",
       "      <td>False</td>\n",
       "      <td>False</td>\n",
       "      <td>False</td>\n",
       "      <td>False</td>\n",
       "      <td>False</td>\n",
       "      <td>False</td>\n",
       "      <td>False</td>\n",
       "      <td>False</td>\n",
       "      <td>False</td>\n",
       "      <td>False</td>\n",
       "      <td>False</td>\n",
       "      <td>False</td>\n",
       "    </tr>\n",
       "    <tr>\n",
       "      <th>con_2</th>\n",
       "      <td>False</td>\n",
       "      <td>True</td>\n",
       "      <td>False</td>\n",
       "      <td>False</td>\n",
       "      <td>False</td>\n",
       "      <td>False</td>\n",
       "      <td>False</td>\n",
       "      <td>False</td>\n",
       "      <td>False</td>\n",
       "      <td>False</td>\n",
       "      <td>False</td>\n",
       "      <td>False</td>\n",
       "      <td>False</td>\n",
       "      <td>False</td>\n",
       "      <td>False</td>\n",
       "      <td>False</td>\n",
       "    </tr>\n",
       "    <tr>\n",
       "      <th>con_3</th>\n",
       "      <td>False</td>\n",
       "      <td>False</td>\n",
       "      <td>True</td>\n",
       "      <td>True</td>\n",
       "      <td>False</td>\n",
       "      <td>False</td>\n",
       "      <td>False</td>\n",
       "      <td>False</td>\n",
       "      <td>False</td>\n",
       "      <td>False</td>\n",
       "      <td>False</td>\n",
       "      <td>False</td>\n",
       "      <td>False</td>\n",
       "      <td>False</td>\n",
       "      <td>False</td>\n",
       "      <td>False</td>\n",
       "    </tr>\n",
       "    <tr>\n",
       "      <th>con_4</th>\n",
       "      <td>False</td>\n",
       "      <td>False</td>\n",
       "      <td>True</td>\n",
       "      <td>True</td>\n",
       "      <td>False</td>\n",
       "      <td>False</td>\n",
       "      <td>False</td>\n",
       "      <td>False</td>\n",
       "      <td>False</td>\n",
       "      <td>False</td>\n",
       "      <td>False</td>\n",
       "      <td>False</td>\n",
       "      <td>False</td>\n",
       "      <td>False</td>\n",
       "      <td>False</td>\n",
       "      <td>False</td>\n",
       "    </tr>\n",
       "    <tr>\n",
       "      <th>con_5</th>\n",
       "      <td>False</td>\n",
       "      <td>False</td>\n",
       "      <td>False</td>\n",
       "      <td>False</td>\n",
       "      <td>True</td>\n",
       "      <td>False</td>\n",
       "      <td>False</td>\n",
       "      <td>False</td>\n",
       "      <td>False</td>\n",
       "      <td>False</td>\n",
       "      <td>False</td>\n",
       "      <td>False</td>\n",
       "      <td>False</td>\n",
       "      <td>False</td>\n",
       "      <td>False</td>\n",
       "      <td>False</td>\n",
       "    </tr>\n",
       "    <tr>\n",
       "      <th>bed_3</th>\n",
       "      <td>False</td>\n",
       "      <td>False</td>\n",
       "      <td>False</td>\n",
       "      <td>False</td>\n",
       "      <td>False</td>\n",
       "      <td>True</td>\n",
       "      <td>False</td>\n",
       "      <td>False</td>\n",
       "      <td>False</td>\n",
       "      <td>False</td>\n",
       "      <td>False</td>\n",
       "      <td>False</td>\n",
       "      <td>False</td>\n",
       "      <td>False</td>\n",
       "      <td>False</td>\n",
       "      <td>False</td>\n",
       "    </tr>\n",
       "    <tr>\n",
       "      <th>bed_4</th>\n",
       "      <td>False</td>\n",
       "      <td>False</td>\n",
       "      <td>False</td>\n",
       "      <td>False</td>\n",
       "      <td>False</td>\n",
       "      <td>False</td>\n",
       "      <td>True</td>\n",
       "      <td>False</td>\n",
       "      <td>False</td>\n",
       "      <td>False</td>\n",
       "      <td>False</td>\n",
       "      <td>False</td>\n",
       "      <td>False</td>\n",
       "      <td>False</td>\n",
       "      <td>False</td>\n",
       "      <td>False</td>\n",
       "    </tr>\n",
       "    <tr>\n",
       "      <th>bed_5</th>\n",
       "      <td>False</td>\n",
       "      <td>False</td>\n",
       "      <td>False</td>\n",
       "      <td>False</td>\n",
       "      <td>False</td>\n",
       "      <td>False</td>\n",
       "      <td>False</td>\n",
       "      <td>True</td>\n",
       "      <td>False</td>\n",
       "      <td>False</td>\n",
       "      <td>False</td>\n",
       "      <td>False</td>\n",
       "      <td>False</td>\n",
       "      <td>False</td>\n",
       "      <td>False</td>\n",
       "      <td>False</td>\n",
       "    </tr>\n",
       "    <tr>\n",
       "      <th>floor_L2</th>\n",
       "      <td>False</td>\n",
       "      <td>False</td>\n",
       "      <td>False</td>\n",
       "      <td>False</td>\n",
       "      <td>False</td>\n",
       "      <td>False</td>\n",
       "      <td>False</td>\n",
       "      <td>False</td>\n",
       "      <td>True</td>\n",
       "      <td>False</td>\n",
       "      <td>False</td>\n",
       "      <td>False</td>\n",
       "      <td>False</td>\n",
       "      <td>False</td>\n",
       "      <td>False</td>\n",
       "      <td>False</td>\n",
       "    </tr>\n",
       "    <tr>\n",
       "      <th>floor_L3</th>\n",
       "      <td>False</td>\n",
       "      <td>False</td>\n",
       "      <td>False</td>\n",
       "      <td>False</td>\n",
       "      <td>False</td>\n",
       "      <td>False</td>\n",
       "      <td>False</td>\n",
       "      <td>False</td>\n",
       "      <td>False</td>\n",
       "      <td>True</td>\n",
       "      <td>False</td>\n",
       "      <td>False</td>\n",
       "      <td>False</td>\n",
       "      <td>False</td>\n",
       "      <td>False</td>\n",
       "      <td>False</td>\n",
       "    </tr>\n",
       "    <tr>\n",
       "      <th>bath_Medium</th>\n",
       "      <td>False</td>\n",
       "      <td>False</td>\n",
       "      <td>False</td>\n",
       "      <td>False</td>\n",
       "      <td>False</td>\n",
       "      <td>False</td>\n",
       "      <td>False</td>\n",
       "      <td>False</td>\n",
       "      <td>False</td>\n",
       "      <td>False</td>\n",
       "      <td>True</td>\n",
       "      <td>False</td>\n",
       "      <td>False</td>\n",
       "      <td>False</td>\n",
       "      <td>False</td>\n",
       "      <td>False</td>\n",
       "    </tr>\n",
       "    <tr>\n",
       "      <th>bath_Large</th>\n",
       "      <td>False</td>\n",
       "      <td>False</td>\n",
       "      <td>False</td>\n",
       "      <td>False</td>\n",
       "      <td>False</td>\n",
       "      <td>False</td>\n",
       "      <td>False</td>\n",
       "      <td>False</td>\n",
       "      <td>False</td>\n",
       "      <td>False</td>\n",
       "      <td>False</td>\n",
       "      <td>True</td>\n",
       "      <td>False</td>\n",
       "      <td>False</td>\n",
       "      <td>False</td>\n",
       "      <td>False</td>\n",
       "    </tr>\n",
       "    <tr>\n",
       "      <th>water_1.0</th>\n",
       "      <td>False</td>\n",
       "      <td>False</td>\n",
       "      <td>False</td>\n",
       "      <td>False</td>\n",
       "      <td>False</td>\n",
       "      <td>False</td>\n",
       "      <td>False</td>\n",
       "      <td>False</td>\n",
       "      <td>False</td>\n",
       "      <td>False</td>\n",
       "      <td>False</td>\n",
       "      <td>False</td>\n",
       "      <td>True</td>\n",
       "      <td>False</td>\n",
       "      <td>False</td>\n",
       "      <td>False</td>\n",
       "    </tr>\n",
       "    <tr>\n",
       "      <th>grade_7</th>\n",
       "      <td>False</td>\n",
       "      <td>False</td>\n",
       "      <td>False</td>\n",
       "      <td>False</td>\n",
       "      <td>False</td>\n",
       "      <td>False</td>\n",
       "      <td>False</td>\n",
       "      <td>False</td>\n",
       "      <td>False</td>\n",
       "      <td>False</td>\n",
       "      <td>False</td>\n",
       "      <td>False</td>\n",
       "      <td>False</td>\n",
       "      <td>True</td>\n",
       "      <td>False</td>\n",
       "      <td>False</td>\n",
       "    </tr>\n",
       "    <tr>\n",
       "      <th>grade_8</th>\n",
       "      <td>False</td>\n",
       "      <td>False</td>\n",
       "      <td>False</td>\n",
       "      <td>False</td>\n",
       "      <td>False</td>\n",
       "      <td>False</td>\n",
       "      <td>False</td>\n",
       "      <td>False</td>\n",
       "      <td>False</td>\n",
       "      <td>False</td>\n",
       "      <td>False</td>\n",
       "      <td>False</td>\n",
       "      <td>False</td>\n",
       "      <td>False</td>\n",
       "      <td>True</td>\n",
       "      <td>False</td>\n",
       "    </tr>\n",
       "    <tr>\n",
       "      <th>grade_9</th>\n",
       "      <td>False</td>\n",
       "      <td>False</td>\n",
       "      <td>False</td>\n",
       "      <td>False</td>\n",
       "      <td>False</td>\n",
       "      <td>False</td>\n",
       "      <td>False</td>\n",
       "      <td>False</td>\n",
       "      <td>False</td>\n",
       "      <td>False</td>\n",
       "      <td>False</td>\n",
       "      <td>False</td>\n",
       "      <td>False</td>\n",
       "      <td>False</td>\n",
       "      <td>False</td>\n",
       "      <td>True</td>\n",
       "    </tr>\n",
       "  </tbody>\n",
       "</table>\n",
       "</div>"
      ],
      "text/plain": [
       "             price  con_2  con_3  con_4  con_5  bed_3  bed_4  bed_5  floor_L2  \\\n",
       "price         True  False  False  False  False  False  False  False     False   \n",
       "con_2        False   True  False  False  False  False  False  False     False   \n",
       "con_3        False  False   True   True  False  False  False  False     False   \n",
       "con_4        False  False   True   True  False  False  False  False     False   \n",
       "con_5        False  False  False  False   True  False  False  False     False   \n",
       "bed_3        False  False  False  False  False   True  False  False     False   \n",
       "bed_4        False  False  False  False  False  False   True  False     False   \n",
       "bed_5        False  False  False  False  False  False  False   True     False   \n",
       "floor_L2     False  False  False  False  False  False  False  False      True   \n",
       "floor_L3     False  False  False  False  False  False  False  False     False   \n",
       "bath_Medium  False  False  False  False  False  False  False  False     False   \n",
       "bath_Large   False  False  False  False  False  False  False  False     False   \n",
       "water_1.0    False  False  False  False  False  False  False  False     False   \n",
       "grade_7      False  False  False  False  False  False  False  False     False   \n",
       "grade_8      False  False  False  False  False  False  False  False     False   \n",
       "grade_9      False  False  False  False  False  False  False  False     False   \n",
       "\n",
       "             floor_L3  bath_Medium  bath_Large  water_1.0  grade_7  grade_8  \\\n",
       "price           False        False       False      False    False    False   \n",
       "con_2           False        False       False      False    False    False   \n",
       "con_3           False        False       False      False    False    False   \n",
       "con_4           False        False       False      False    False    False   \n",
       "con_5           False        False       False      False    False    False   \n",
       "bed_3           False        False       False      False    False    False   \n",
       "bed_4           False        False       False      False    False    False   \n",
       "bed_5           False        False       False      False    False    False   \n",
       "floor_L2        False        False       False      False    False    False   \n",
       "floor_L3         True        False       False      False    False    False   \n",
       "bath_Medium     False         True       False      False    False    False   \n",
       "bath_Large      False        False        True      False    False    False   \n",
       "water_1.0       False        False       False       True    False    False   \n",
       "grade_7         False        False       False      False     True    False   \n",
       "grade_8         False        False       False      False    False     True   \n",
       "grade_9         False        False       False      False    False    False   \n",
       "\n",
       "             grade_9  \n",
       "price          False  \n",
       "con_2          False  \n",
       "con_3          False  \n",
       "con_4          False  \n",
       "con_5          False  \n",
       "bed_3          False  \n",
       "bed_4          False  \n",
       "bed_5          False  \n",
       "floor_L2       False  \n",
       "floor_L3       False  \n",
       "bath_Medium    False  \n",
       "bath_Large     False  \n",
       "water_1.0      False  \n",
       "grade_7        False  \n",
       "grade_8        False  \n",
       "grade_9         True  "
      ]
     },
     "execution_count": 52,
     "metadata": {},
     "output_type": "execute_result"
    }
   ],
   "source": [
    "abs(correlation) > 0.75"
   ]
  },
  {
   "cell_type": "code",
   "execution_count": 53,
   "id": "13c23aec",
   "metadata": {},
   "outputs": [
    {
     "name": "stdout",
     "output_type": "stream",
     "text": [
      "<class 'pandas.core.frame.DataFrame'>\n",
      "Index: 16996 entries, 1 to 21596\n",
      "Data columns (total 17 columns):\n",
      " #   Column       Non-Null Count  Dtype  \n",
      "---  ------       --------------  -----  \n",
      " 0   price        16996 non-null  float64\n",
      " 1   sqft_living  16996 non-null  int64  \n",
      " 2   con_2        16996 non-null  int32  \n",
      " 3   con_3        16996 non-null  int32  \n",
      " 4   con_4        16996 non-null  int32  \n",
      " 5   con_5        16996 non-null  int32  \n",
      " 6   bed_3        16996 non-null  int32  \n",
      " 7   bed_4        16996 non-null  int32  \n",
      " 8   bed_5        16996 non-null  int32  \n",
      " 9   floor_L2     16996 non-null  int32  \n",
      " 10  floor_L3     16996 non-null  int32  \n",
      " 11  bath_Medium  16996 non-null  int32  \n",
      " 12  bath_Large   16996 non-null  int32  \n",
      " 13  water_1.0    16996 non-null  int32  \n",
      " 14  grade_7      16996 non-null  int32  \n",
      " 15  grade_8      16996 non-null  int32  \n",
      " 16  grade_9      16996 non-null  int32  \n",
      "dtypes: float64(1), int32(15), int64(1)\n",
      "memory usage: 1.4 MB\n"
     ]
    }
   ],
   "source": [
    "df6.info()"
   ]
  },
  {
   "cell_type": "markdown",
   "id": "6ed1e86e",
   "metadata": {},
   "source": [
    "# get the highest correlation pairs"
   ]
  },
  {
   "cell_type": "code",
   "execution_count": 54,
   "id": "4c13a05d",
   "metadata": {},
   "outputs": [],
   "source": [
    "df7=data_pred.corr().abs().stack().reset_index().sort_values(0, ascending=False)"
   ]
  },
  {
   "cell_type": "code",
   "execution_count": 55,
   "id": "9085941a",
   "metadata": {},
   "outputs": [],
   "source": [
    "df7['pairs'] = list(zip(df7.level_0, df7.level_1))"
   ]
  },
  {
   "cell_type": "code",
   "execution_count": 56,
   "id": "f7ec1b6b",
   "metadata": {},
   "outputs": [],
   "source": [
    "df7.set_index(['pairs'], inplace = True)"
   ]
  },
  {
   "cell_type": "code",
   "execution_count": 57,
   "id": "e9d1968c",
   "metadata": {},
   "outputs": [],
   "source": [
    "df7.drop(columns=['level_1', 'level_0'], inplace = True)\n"
   ]
  },
  {
   "cell_type": "code",
   "execution_count": 58,
   "id": "7857bbc6",
   "metadata": {},
   "outputs": [],
   "source": [
    "df7.columns = ['cc']"
   ]
  },
  {
   "cell_type": "code",
   "execution_count": 59,
   "id": "3c8e0207",
   "metadata": {},
   "outputs": [],
   "source": [
    "df7.drop_duplicates(inplace=True)"
   ]
  },
  {
   "cell_type": "code",
   "execution_count": 60,
   "id": "9baa95a2",
   "metadata": {},
   "outputs": [
    {
     "data": {
      "text/html": [
       "<div>\n",
       "<style scoped>\n",
       "    .dataframe tbody tr th:only-of-type {\n",
       "        vertical-align: middle;\n",
       "    }\n",
       "\n",
       "    .dataframe tbody tr th {\n",
       "        vertical-align: top;\n",
       "    }\n",
       "\n",
       "    .dataframe thead th {\n",
       "        text-align: right;\n",
       "    }\n",
       "</style>\n",
       "<table border=\"1\" class=\"dataframe\">\n",
       "  <thead>\n",
       "    <tr style=\"text-align: right;\">\n",
       "      <th></th>\n",
       "      <th>cc</th>\n",
       "    </tr>\n",
       "    <tr>\n",
       "      <th>pairs</th>\n",
       "      <th></th>\n",
       "    </tr>\n",
       "  </thead>\n",
       "  <tbody>\n",
       "    <tr>\n",
       "      <th>(con_4, con_3)</th>\n",
       "      <td>0.81204</td>\n",
       "    </tr>\n",
       "  </tbody>\n",
       "</table>\n",
       "</div>"
      ],
      "text/plain": [
       "                     cc\n",
       "pairs                  \n",
       "(con_4, con_3)  0.81204"
      ]
     },
     "execution_count": 60,
     "metadata": {},
     "output_type": "execute_result"
    }
   ],
   "source": [
    "df7[(df7.cc>.75) & (df7.cc <1)]"
   ]
  },
  {
   "cell_type": "code",
   "execution_count": 61,
   "id": "c087aaa3",
   "metadata": {
    "scrolled": true
   },
   "outputs": [],
   "source": [
    "df6.drop(columns=['con_4'],inplace=True) "
   ]
  },
  {
   "cell_type": "markdown",
   "id": "0971a638",
   "metadata": {},
   "source": [
    "# Build second model "
   ]
  },
  {
   "cell_type": "code",
   "execution_count": 62,
   "id": "b616c2a8",
   "metadata": {},
   "outputs": [
    {
     "data": {
      "text/plain": [
       "price          float64\n",
       "sqft_living      int64\n",
       "con_2            int32\n",
       "con_3            int32\n",
       "con_5            int32\n",
       "bed_3            int32\n",
       "bed_4            int32\n",
       "bed_5            int32\n",
       "floor_L2         int32\n",
       "floor_L3         int32\n",
       "bath_Medium      int32\n",
       "bath_Large       int32\n",
       "water_1.0        int32\n",
       "grade_7          int32\n",
       "grade_8          int32\n",
       "grade_9          int32\n",
       "dtype: object"
      ]
     },
     "execution_count": 62,
     "metadata": {},
     "output_type": "execute_result"
    }
   ],
   "source": [
    "df6.dtypes"
   ]
  },
  {
   "cell_type": "code",
   "execution_count": 63,
   "id": "18c37a54",
   "metadata": {
    "scrolled": true
   },
   "outputs": [
    {
     "data": {
      "text/html": [
       "<table class=\"simpletable\">\n",
       "<caption>OLS Regression Results</caption>\n",
       "<tr>\n",
       "  <th>Dep. Variable:</th>          <td>price</td>      <th>  R-squared:         </th>  <td>   0.451</td>  \n",
       "</tr>\n",
       "<tr>\n",
       "  <th>Model:</th>                   <td>OLS</td>       <th>  Adj. R-squared:    </th>  <td>   0.450</td>  \n",
       "</tr>\n",
       "<tr>\n",
       "  <th>Method:</th>             <td>Least Squares</td>  <th>  F-statistic:       </th>  <td>   928.7</td>  \n",
       "</tr>\n",
       "<tr>\n",
       "  <th>Date:</th>             <td>Thu, 28 Mar 2024</td> <th>  Prob (F-statistic):</th>   <td>  0.00</td>   \n",
       "</tr>\n",
       "<tr>\n",
       "  <th>Time:</th>                 <td>22:03:28</td>     <th>  Log-Likelihood:    </th> <td>-2.2935e+05</td>\n",
       "</tr>\n",
       "<tr>\n",
       "  <th>No. Observations:</th>      <td> 16996</td>      <th>  AIC:               </th>  <td>4.587e+05</td> \n",
       "</tr>\n",
       "<tr>\n",
       "  <th>Df Residuals:</th>          <td> 16980</td>      <th>  BIC:               </th>  <td>4.589e+05</td> \n",
       "</tr>\n",
       "<tr>\n",
       "  <th>Df Model:</th>              <td>    15</td>      <th>                     </th>      <td> </td>     \n",
       "</tr>\n",
       "<tr>\n",
       "  <th>Covariance Type:</th>      <td>nonrobust</td>    <th>                     </th>      <td> </td>     \n",
       "</tr>\n",
       "</table>\n",
       "<table class=\"simpletable\">\n",
       "<tr>\n",
       "       <td></td>          <th>coef</th>     <th>std err</th>      <th>t</th>      <th>P>|t|</th>  <th>[0.025</th>    <th>0.975]</th>  \n",
       "</tr>\n",
       "<tr>\n",
       "  <th>const</th>       <td> 1.798e+05</td> <td> 6258.712</td> <td>   28.732</td> <td> 0.000</td> <td> 1.68e+05</td> <td> 1.92e+05</td>\n",
       "</tr>\n",
       "<tr>\n",
       "  <th>sqft_living</th> <td>  143.4248</td> <td>    3.292</td> <td>   43.562</td> <td> 0.000</td> <td>  136.971</td> <td>  149.878</td>\n",
       "</tr>\n",
       "<tr>\n",
       "  <th>con_2</th>       <td>-7.262e+04</td> <td> 1.58e+04</td> <td>   -4.601</td> <td> 0.000</td> <td>-1.04e+05</td> <td>-4.17e+04</td>\n",
       "</tr>\n",
       "<tr>\n",
       "  <th>con_3</th>       <td> -4.25e+04</td> <td> 3251.951</td> <td>  -13.069</td> <td> 0.000</td> <td>-4.89e+04</td> <td>-3.61e+04</td>\n",
       "</tr>\n",
       "<tr>\n",
       "  <th>con_5</th>       <td> 7.454e+04</td> <td> 5383.100</td> <td>   13.847</td> <td> 0.000</td> <td>  6.4e+04</td> <td> 8.51e+04</td>\n",
       "</tr>\n",
       "<tr>\n",
       "  <th>bed_3</th>       <td>-6.189e+04</td> <td> 4431.415</td> <td>  -13.966</td> <td> 0.000</td> <td>-7.06e+04</td> <td>-5.32e+04</td>\n",
       "</tr>\n",
       "<tr>\n",
       "  <th>bed_4</th>       <td>-7.341e+04</td> <td> 5286.586</td> <td>  -13.885</td> <td> 0.000</td> <td>-8.38e+04</td> <td> -6.3e+04</td>\n",
       "</tr>\n",
       "<tr>\n",
       "  <th>bed_5</th>       <td>-6.545e+04</td> <td> 7442.464</td> <td>   -8.795</td> <td> 0.000</td> <td>   -8e+04</td> <td>-5.09e+04</td>\n",
       "</tr>\n",
       "<tr>\n",
       "  <th>floor_L2</th>    <td>  -3.6e+04</td> <td> 3728.111</td> <td>   -9.656</td> <td> 0.000</td> <td>-4.33e+04</td> <td>-2.87e+04</td>\n",
       "</tr>\n",
       "<tr>\n",
       "  <th>floor_L3</th>    <td> 4.424e+04</td> <td> 8669.909</td> <td>    5.103</td> <td> 0.000</td> <td> 2.72e+04</td> <td> 6.12e+04</td>\n",
       "</tr>\n",
       "<tr>\n",
       "  <th>bath_Medium</th> <td>-2.391e+04</td> <td> 3917.602</td> <td>   -6.103</td> <td> 0.000</td> <td>-3.16e+04</td> <td>-1.62e+04</td>\n",
       "</tr>\n",
       "<tr>\n",
       "  <th>bath_Large</th>  <td> 4.619e+04</td> <td> 3.56e+04</td> <td>    1.298</td> <td> 0.194</td> <td>-2.35e+04</td> <td> 1.16e+05</td>\n",
       "</tr>\n",
       "<tr>\n",
       "  <th>water_1.0</th>   <td> 4.785e+05</td> <td> 2.01e+04</td> <td>   23.762</td> <td> 0.000</td> <td> 4.39e+05</td> <td> 5.18e+05</td>\n",
       "</tr>\n",
       "<tr>\n",
       "  <th>grade_7</th>     <td> 6.875e+04</td> <td> 4962.376</td> <td>   13.855</td> <td> 0.000</td> <td>  5.9e+04</td> <td> 7.85e+04</td>\n",
       "</tr>\n",
       "<tr>\n",
       "  <th>grade_8</th>     <td> 1.645e+05</td> <td> 5850.427</td> <td>   28.112</td> <td> 0.000</td> <td> 1.53e+05</td> <td> 1.76e+05</td>\n",
       "</tr>\n",
       "<tr>\n",
       "  <th>grade_9</th>     <td> 3.225e+05</td> <td> 7438.823</td> <td>   43.351</td> <td> 0.000</td> <td> 3.08e+05</td> <td> 3.37e+05</td>\n",
       "</tr>\n",
       "</table>\n",
       "<table class=\"simpletable\">\n",
       "<tr>\n",
       "  <th>Omnibus:</th>       <td>5595.546</td> <th>  Durbin-Watson:     </th> <td>   1.969</td> \n",
       "</tr>\n",
       "<tr>\n",
       "  <th>Prob(Omnibus):</th>  <td> 0.000</td>  <th>  Jarque-Bera (JB):  </th> <td>34666.566</td>\n",
       "</tr>\n",
       "<tr>\n",
       "  <th>Skew:</th>           <td> 1.442</td>  <th>  Prob(JB):          </th> <td>    0.00</td> \n",
       "</tr>\n",
       "<tr>\n",
       "  <th>Kurtosis:</th>       <td> 9.375</td>  <th>  Cond. No.          </th> <td>5.41e+04</td> \n",
       "</tr>\n",
       "</table><br/><br/>Notes:<br/>[1] Standard Errors assume that the covariance matrix of the errors is correctly specified.<br/>[2] The condition number is large, 5.41e+04. This might indicate that there are<br/>strong multicollinearity or other numerical problems."
      ],
      "text/latex": [
       "\\begin{center}\n",
       "\\begin{tabular}{lclc}\n",
       "\\toprule\n",
       "\\textbf{Dep. Variable:}    &      price       & \\textbf{  R-squared:         } &      0.451   \\\\\n",
       "\\textbf{Model:}            &       OLS        & \\textbf{  Adj. R-squared:    } &      0.450   \\\\\n",
       "\\textbf{Method:}           &  Least Squares   & \\textbf{  F-statistic:       } &      928.7   \\\\\n",
       "\\textbf{Date:}             & Thu, 28 Mar 2024 & \\textbf{  Prob (F-statistic):} &      0.00    \\\\\n",
       "\\textbf{Time:}             &     22:03:28     & \\textbf{  Log-Likelihood:    } & -2.2935e+05  \\\\\n",
       "\\textbf{No. Observations:} &       16996      & \\textbf{  AIC:               } &  4.587e+05   \\\\\n",
       "\\textbf{Df Residuals:}     &       16980      & \\textbf{  BIC:               } &  4.589e+05   \\\\\n",
       "\\textbf{Df Model:}         &          15      & \\textbf{                     } &              \\\\\n",
       "\\textbf{Covariance Type:}  &    nonrobust     & \\textbf{                     } &              \\\\\n",
       "\\bottomrule\n",
       "\\end{tabular}\n",
       "\\begin{tabular}{lcccccc}\n",
       "                      & \\textbf{coef} & \\textbf{std err} & \\textbf{t} & \\textbf{P$> |$t$|$} & \\textbf{[0.025} & \\textbf{0.975]}  \\\\\n",
       "\\midrule\n",
       "\\textbf{const}        &    1.798e+05  &     6258.712     &    28.732  &         0.000        &     1.68e+05    &     1.92e+05     \\\\\n",
       "\\textbf{sqft\\_living} &     143.4248  &        3.292     &    43.562  &         0.000        &      136.971    &      149.878     \\\\\n",
       "\\textbf{con\\_2}       &   -7.262e+04  &     1.58e+04     &    -4.601  &         0.000        &    -1.04e+05    &    -4.17e+04     \\\\\n",
       "\\textbf{con\\_3}       &    -4.25e+04  &     3251.951     &   -13.069  &         0.000        &    -4.89e+04    &    -3.61e+04     \\\\\n",
       "\\textbf{con\\_5}       &    7.454e+04  &     5383.100     &    13.847  &         0.000        &      6.4e+04    &     8.51e+04     \\\\\n",
       "\\textbf{bed\\_3}       &   -6.189e+04  &     4431.415     &   -13.966  &         0.000        &    -7.06e+04    &    -5.32e+04     \\\\\n",
       "\\textbf{bed\\_4}       &   -7.341e+04  &     5286.586     &   -13.885  &         0.000        &    -8.38e+04    &     -6.3e+04     \\\\\n",
       "\\textbf{bed\\_5}       &   -6.545e+04  &     7442.464     &    -8.795  &         0.000        &       -8e+04    &    -5.09e+04     \\\\\n",
       "\\textbf{floor\\_L2}    &     -3.6e+04  &     3728.111     &    -9.656  &         0.000        &    -4.33e+04    &    -2.87e+04     \\\\\n",
       "\\textbf{floor\\_L3}    &    4.424e+04  &     8669.909     &     5.103  &         0.000        &     2.72e+04    &     6.12e+04     \\\\\n",
       "\\textbf{bath\\_Medium} &   -2.391e+04  &     3917.602     &    -6.103  &         0.000        &    -3.16e+04    &    -1.62e+04     \\\\\n",
       "\\textbf{bath\\_Large}  &    4.619e+04  &     3.56e+04     &     1.298  &         0.194        &    -2.35e+04    &     1.16e+05     \\\\\n",
       "\\textbf{water\\_1.0}   &    4.785e+05  &     2.01e+04     &    23.762  &         0.000        &     4.39e+05    &     5.18e+05     \\\\\n",
       "\\textbf{grade\\_7}     &    6.875e+04  &     4962.376     &    13.855  &         0.000        &      5.9e+04    &     7.85e+04     \\\\\n",
       "\\textbf{grade\\_8}     &    1.645e+05  &     5850.427     &    28.112  &         0.000        &     1.53e+05    &     1.76e+05     \\\\\n",
       "\\textbf{grade\\_9}     &    3.225e+05  &     7438.823     &    43.351  &         0.000        &     3.08e+05    &     3.37e+05     \\\\\n",
       "\\bottomrule\n",
       "\\end{tabular}\n",
       "\\begin{tabular}{lclc}\n",
       "\\textbf{Omnibus:}       & 5595.546 & \\textbf{  Durbin-Watson:     } &     1.969  \\\\\n",
       "\\textbf{Prob(Omnibus):} &   0.000  & \\textbf{  Jarque-Bera (JB):  } & 34666.566  \\\\\n",
       "\\textbf{Skew:}          &   1.442  & \\textbf{  Prob(JB):          } &      0.00  \\\\\n",
       "\\textbf{Kurtosis:}      &   9.375  & \\textbf{  Cond. No.          } &  5.41e+04  \\\\\n",
       "\\bottomrule\n",
       "\\end{tabular}\n",
       "%\\caption{OLS Regression Results}\n",
       "\\end{center}\n",
       "\n",
       "Notes: \\newline\n",
       " [1] Standard Errors assume that the covariance matrix of the errors is correctly specified. \\newline\n",
       " [2] The condition number is large, 5.41e+04. This might indicate that there are \\newline\n",
       " strong multicollinearity or other numerical problems."
      ],
      "text/plain": [
       "<class 'statsmodels.iolib.summary.Summary'>\n",
       "\"\"\"\n",
       "                            OLS Regression Results                            \n",
       "==============================================================================\n",
       "Dep. Variable:                  price   R-squared:                       0.451\n",
       "Model:                            OLS   Adj. R-squared:                  0.450\n",
       "Method:                 Least Squares   F-statistic:                     928.7\n",
       "Date:                Thu, 28 Mar 2024   Prob (F-statistic):               0.00\n",
       "Time:                        22:03:28   Log-Likelihood:            -2.2935e+05\n",
       "No. Observations:               16996   AIC:                         4.587e+05\n",
       "Df Residuals:                   16980   BIC:                         4.589e+05\n",
       "Df Model:                          15                                         \n",
       "Covariance Type:            nonrobust                                         \n",
       "===============================================================================\n",
       "                  coef    std err          t      P>|t|      [0.025      0.975]\n",
       "-------------------------------------------------------------------------------\n",
       "const        1.798e+05   6258.712     28.732      0.000    1.68e+05    1.92e+05\n",
       "sqft_living   143.4248      3.292     43.562      0.000     136.971     149.878\n",
       "con_2       -7.262e+04   1.58e+04     -4.601      0.000   -1.04e+05   -4.17e+04\n",
       "con_3        -4.25e+04   3251.951    -13.069      0.000   -4.89e+04   -3.61e+04\n",
       "con_5        7.454e+04   5383.100     13.847      0.000     6.4e+04    8.51e+04\n",
       "bed_3       -6.189e+04   4431.415    -13.966      0.000   -7.06e+04   -5.32e+04\n",
       "bed_4       -7.341e+04   5286.586    -13.885      0.000   -8.38e+04    -6.3e+04\n",
       "bed_5       -6.545e+04   7442.464     -8.795      0.000      -8e+04   -5.09e+04\n",
       "floor_L2      -3.6e+04   3728.111     -9.656      0.000   -4.33e+04   -2.87e+04\n",
       "floor_L3     4.424e+04   8669.909      5.103      0.000    2.72e+04    6.12e+04\n",
       "bath_Medium -2.391e+04   3917.602     -6.103      0.000   -3.16e+04   -1.62e+04\n",
       "bath_Large   4.619e+04   3.56e+04      1.298      0.194   -2.35e+04    1.16e+05\n",
       "water_1.0    4.785e+05   2.01e+04     23.762      0.000    4.39e+05    5.18e+05\n",
       "grade_7      6.875e+04   4962.376     13.855      0.000     5.9e+04    7.85e+04\n",
       "grade_8      1.645e+05   5850.427     28.112      0.000    1.53e+05    1.76e+05\n",
       "grade_9      3.225e+05   7438.823     43.351      0.000    3.08e+05    3.37e+05\n",
       "==============================================================================\n",
       "Omnibus:                     5595.546   Durbin-Watson:                   1.969\n",
       "Prob(Omnibus):                  0.000   Jarque-Bera (JB):            34666.566\n",
       "Skew:                           1.442   Prob(JB):                         0.00\n",
       "Kurtosis:                       9.375   Cond. No.                     5.41e+04\n",
       "==============================================================================\n",
       "\n",
       "Notes:\n",
       "[1] Standard Errors assume that the covariance matrix of the errors is correctly specified.\n",
       "[2] The condition number is large, 5.41e+04. This might indicate that there are\n",
       "strong multicollinearity or other numerical problems.\n",
       "\"\"\""
      ]
     },
     "execution_count": 63,
     "metadata": {},
     "output_type": "execute_result"
    }
   ],
   "source": [
    "#df6_numeric = df6.apply(pd.to_numeric, errors='coerce')\n",
    "\n",
    "df6.dropna(inplace=True)\n",
    "X = sm.add_constant(df6.drop(columns=['price']))\n",
    "y = df6['price']\n",
    "model = sm.OLS(y, X).fit()\n",
    "model.summary()"
   ]
  },
  {
   "cell_type": "code",
   "execution_count": 64,
   "id": "b887eec0",
   "metadata": {},
   "outputs": [],
   "source": [
    "#since the bath_large has p>0.05 we can drop it "
   ]
  },
  {
   "cell_type": "code",
   "execution_count": 65,
   "id": "f09b0260",
   "metadata": {},
   "outputs": [],
   "source": [
    "df6.drop(columns=['bath_Large'], inplace=True)"
   ]
  },
  {
   "cell_type": "code",
   "execution_count": 66,
   "id": "ab74e1af",
   "metadata": {},
   "outputs": [
    {
     "data": {
      "text/html": [
       "<div>\n",
       "<style scoped>\n",
       "    .dataframe tbody tr th:only-of-type {\n",
       "        vertical-align: middle;\n",
       "    }\n",
       "\n",
       "    .dataframe tbody tr th {\n",
       "        vertical-align: top;\n",
       "    }\n",
       "\n",
       "    .dataframe thead th {\n",
       "        text-align: right;\n",
       "    }\n",
       "</style>\n",
       "<table border=\"1\" class=\"dataframe\">\n",
       "  <thead>\n",
       "    <tr style=\"text-align: right;\">\n",
       "      <th></th>\n",
       "      <th>price</th>\n",
       "      <th>sqft_living</th>\n",
       "      <th>con_2</th>\n",
       "      <th>con_3</th>\n",
       "      <th>con_5</th>\n",
       "      <th>bed_3</th>\n",
       "      <th>bed_4</th>\n",
       "      <th>bed_5</th>\n",
       "      <th>floor_L2</th>\n",
       "      <th>floor_L3</th>\n",
       "      <th>bath_Medium</th>\n",
       "      <th>water_1.0</th>\n",
       "      <th>grade_7</th>\n",
       "      <th>grade_8</th>\n",
       "      <th>grade_9</th>\n",
       "    </tr>\n",
       "  </thead>\n",
       "  <tbody>\n",
       "    <tr>\n",
       "      <th>1</th>\n",
       "      <td>538000.0</td>\n",
       "      <td>2570</td>\n",
       "      <td>0</td>\n",
       "      <td>1</td>\n",
       "      <td>0</td>\n",
       "      <td>1</td>\n",
       "      <td>0</td>\n",
       "      <td>0</td>\n",
       "      <td>1</td>\n",
       "      <td>0</td>\n",
       "      <td>1</td>\n",
       "      <td>0</td>\n",
       "      <td>1</td>\n",
       "      <td>0</td>\n",
       "      <td>0</td>\n",
       "    </tr>\n",
       "    <tr>\n",
       "      <th>2</th>\n",
       "      <td>180000.0</td>\n",
       "      <td>770</td>\n",
       "      <td>0</td>\n",
       "      <td>1</td>\n",
       "      <td>0</td>\n",
       "      <td>0</td>\n",
       "      <td>0</td>\n",
       "      <td>0</td>\n",
       "      <td>0</td>\n",
       "      <td>0</td>\n",
       "      <td>0</td>\n",
       "      <td>0</td>\n",
       "      <td>0</td>\n",
       "      <td>0</td>\n",
       "      <td>0</td>\n",
       "    </tr>\n",
       "    <tr>\n",
       "      <th>3</th>\n",
       "      <td>604000.0</td>\n",
       "      <td>1960</td>\n",
       "      <td>0</td>\n",
       "      <td>0</td>\n",
       "      <td>1</td>\n",
       "      <td>0</td>\n",
       "      <td>1</td>\n",
       "      <td>0</td>\n",
       "      <td>0</td>\n",
       "      <td>0</td>\n",
       "      <td>1</td>\n",
       "      <td>0</td>\n",
       "      <td>1</td>\n",
       "      <td>0</td>\n",
       "      <td>0</td>\n",
       "    </tr>\n",
       "    <tr>\n",
       "      <th>4</th>\n",
       "      <td>510000.0</td>\n",
       "      <td>1680</td>\n",
       "      <td>0</td>\n",
       "      <td>1</td>\n",
       "      <td>0</td>\n",
       "      <td>1</td>\n",
       "      <td>0</td>\n",
       "      <td>0</td>\n",
       "      <td>0</td>\n",
       "      <td>0</td>\n",
       "      <td>0</td>\n",
       "      <td>0</td>\n",
       "      <td>0</td>\n",
       "      <td>1</td>\n",
       "      <td>0</td>\n",
       "    </tr>\n",
       "    <tr>\n",
       "      <th>6</th>\n",
       "      <td>257500.0</td>\n",
       "      <td>1715</td>\n",
       "      <td>0</td>\n",
       "      <td>1</td>\n",
       "      <td>0</td>\n",
       "      <td>1</td>\n",
       "      <td>0</td>\n",
       "      <td>0</td>\n",
       "      <td>1</td>\n",
       "      <td>0</td>\n",
       "      <td>1</td>\n",
       "      <td>0</td>\n",
       "      <td>1</td>\n",
       "      <td>0</td>\n",
       "      <td>0</td>\n",
       "    </tr>\n",
       "  </tbody>\n",
       "</table>\n",
       "</div>"
      ],
      "text/plain": [
       "      price  sqft_living  con_2  con_3  con_5  bed_3  bed_4  bed_5  floor_L2  \\\n",
       "1  538000.0         2570      0      1      0      1      0      0         1   \n",
       "2  180000.0          770      0      1      0      0      0      0         0   \n",
       "3  604000.0         1960      0      0      1      0      1      0         0   \n",
       "4  510000.0         1680      0      1      0      1      0      0         0   \n",
       "6  257500.0         1715      0      1      0      1      0      0         1   \n",
       "\n",
       "   floor_L3  bath_Medium  water_1.0  grade_7  grade_8  grade_9  \n",
       "1         0            1          0        1        0        0  \n",
       "2         0            0          0        0        0        0  \n",
       "3         0            1          0        1        0        0  \n",
       "4         0            0          0        0        1        0  \n",
       "6         0            1          0        1        0        0  "
      ]
     },
     "execution_count": 66,
     "metadata": {},
     "output_type": "execute_result"
    }
   ],
   "source": [
    "df6.head()"
   ]
  },
  {
   "cell_type": "markdown",
   "id": "b6d5cc2d",
   "metadata": {},
   "source": [
    "# Check model normality : Q-Q plot and  Homoscedasticity"
   ]
  },
  {
   "cell_type": "code",
   "execution_count": 67,
   "id": "27527b1b",
   "metadata": {},
   "outputs": [
    {
     "data": {
      "image/png": "[encoded data removed]",
      "text/plain": [
       "<Figure size 640x480 with 1 Axes>"
      ]
     },
     "metadata": {},
     "output_type": "display_data"
    }
   ],
   "source": [
    "residuals = model.resid\n",
    "\n",
    "\n",
    "sm.qqplot(residuals, line='s')\n",
    "plt.title('Q-Q Plot of Residuals')\n",
    "plt.show()"
   ]
  },
  {
   "cell_type": "code",
   "execution_count": 68,
   "id": "ff3e5608",
   "metadata": {},
   "outputs": [
    {
     "data": {
      "image/png": "[encoded data removed]",
      "text/plain": [
       "<Figure size 640x480 with 1 Axes>"
      ]
     },
     "metadata": {},
     "output_type": "display_data"
    }
   ],
   "source": [
    "plt.scatter(model.fittedvalues, residuals)\n",
    "plt.title('Residuals vs. Fitted Values')\n",
    "plt.xlabel('Fitted Values')\n",
    "plt.ylabel('Residuals')\n",
    "plt.show()"
   ]
  },
  {
   "cell_type": "markdown",
   "id": "55a28e9b",
   "metadata": {},
   "source": [
    "# Brief explenation about the second model"
   ]
  },
  {
   "cell_type": "code",
   "execution_count": 69,
   "id": "309b305f",
   "metadata": {},
   "outputs": [],
   "source": [
    "#these models are signifcant based on p-value (except for bath_large),and independent variables has positive(coeff>0) ,so we reject the H0 which means we reject the normal distribution\n",
    "\n",
    "#these model has improvement on skeweness comparing to the first model,also it has improvement in kurtosis which means it still has  heavy tail  comparing to the normal distribution but has improvement comparing to the first model\n",
    "\n",
    "#based on what we have the model still  violate the assumption of normality\n",
    "\n",
    "#these dependent variables have positive effect on price base on coeff>0 :sqft_living,floor_l2,floor_l3,bath_medium,bath_large,water_1,garde_good,grade_excelent\n",
    "\n",
    "#based on the Q-Q plot and Homoscedasticity graph it is considered that the model violate the normality ,thus it needs more improvement"
   ]
  },
  {
   "cell_type": "code",
   "execution_count": 70,
   "id": "72e0620e",
   "metadata": {},
   "outputs": [
    {
     "data": {
      "text/html": [
       "<div>\n",
       "<style scoped>\n",
       "    .dataframe tbody tr th:only-of-type {\n",
       "        vertical-align: middle;\n",
       "    }\n",
       "\n",
       "    .dataframe tbody tr th {\n",
       "        vertical-align: top;\n",
       "    }\n",
       "\n",
       "    .dataframe thead th {\n",
       "        text-align: right;\n",
       "    }\n",
       "</style>\n",
       "<table border=\"1\" class=\"dataframe\">\n",
       "  <thead>\n",
       "    <tr style=\"text-align: right;\">\n",
       "      <th></th>\n",
       "      <th>price</th>\n",
       "      <th>sqft_living</th>\n",
       "      <th>con_2</th>\n",
       "      <th>con_3</th>\n",
       "      <th>con_5</th>\n",
       "      <th>bed_3</th>\n",
       "      <th>bed_4</th>\n",
       "      <th>bed_5</th>\n",
       "      <th>floor_L2</th>\n",
       "      <th>floor_L3</th>\n",
       "      <th>bath_Medium</th>\n",
       "      <th>water_1.0</th>\n",
       "      <th>grade_7</th>\n",
       "      <th>grade_8</th>\n",
       "      <th>grade_9</th>\n",
       "    </tr>\n",
       "  </thead>\n",
       "  <tbody>\n",
       "    <tr>\n",
       "      <th>1</th>\n",
       "      <td>538000.0</td>\n",
       "      <td>2570</td>\n",
       "      <td>0</td>\n",
       "      <td>1</td>\n",
       "      <td>0</td>\n",
       "      <td>1</td>\n",
       "      <td>0</td>\n",
       "      <td>0</td>\n",
       "      <td>1</td>\n",
       "      <td>0</td>\n",
       "      <td>1</td>\n",
       "      <td>0</td>\n",
       "      <td>1</td>\n",
       "      <td>0</td>\n",
       "      <td>0</td>\n",
       "    </tr>\n",
       "    <tr>\n",
       "      <th>2</th>\n",
       "      <td>180000.0</td>\n",
       "      <td>770</td>\n",
       "      <td>0</td>\n",
       "      <td>1</td>\n",
       "      <td>0</td>\n",
       "      <td>0</td>\n",
       "      <td>0</td>\n",
       "      <td>0</td>\n",
       "      <td>0</td>\n",
       "      <td>0</td>\n",
       "      <td>0</td>\n",
       "      <td>0</td>\n",
       "      <td>0</td>\n",
       "      <td>0</td>\n",
       "      <td>0</td>\n",
       "    </tr>\n",
       "    <tr>\n",
       "      <th>3</th>\n",
       "      <td>604000.0</td>\n",
       "      <td>1960</td>\n",
       "      <td>0</td>\n",
       "      <td>0</td>\n",
       "      <td>1</td>\n",
       "      <td>0</td>\n",
       "      <td>1</td>\n",
       "      <td>0</td>\n",
       "      <td>0</td>\n",
       "      <td>0</td>\n",
       "      <td>1</td>\n",
       "      <td>0</td>\n",
       "      <td>1</td>\n",
       "      <td>0</td>\n",
       "      <td>0</td>\n",
       "    </tr>\n",
       "    <tr>\n",
       "      <th>4</th>\n",
       "      <td>510000.0</td>\n",
       "      <td>1680</td>\n",
       "      <td>0</td>\n",
       "      <td>1</td>\n",
       "      <td>0</td>\n",
       "      <td>1</td>\n",
       "      <td>0</td>\n",
       "      <td>0</td>\n",
       "      <td>0</td>\n",
       "      <td>0</td>\n",
       "      <td>0</td>\n",
       "      <td>0</td>\n",
       "      <td>0</td>\n",
       "      <td>1</td>\n",
       "      <td>0</td>\n",
       "    </tr>\n",
       "    <tr>\n",
       "      <th>6</th>\n",
       "      <td>257500.0</td>\n",
       "      <td>1715</td>\n",
       "      <td>0</td>\n",
       "      <td>1</td>\n",
       "      <td>0</td>\n",
       "      <td>1</td>\n",
       "      <td>0</td>\n",
       "      <td>0</td>\n",
       "      <td>1</td>\n",
       "      <td>0</td>\n",
       "      <td>1</td>\n",
       "      <td>0</td>\n",
       "      <td>1</td>\n",
       "      <td>0</td>\n",
       "      <td>0</td>\n",
       "    </tr>\n",
       "  </tbody>\n",
       "</table>\n",
       "</div>"
      ],
      "text/plain": [
       "      price  sqft_living  con_2  con_3  con_5  bed_3  bed_4  bed_5  floor_L2  \\\n",
       "1  538000.0         2570      0      1      0      1      0      0         1   \n",
       "2  180000.0          770      0      1      0      0      0      0         0   \n",
       "3  604000.0         1960      0      0      1      0      1      0         0   \n",
       "4  510000.0         1680      0      1      0      1      0      0         0   \n",
       "6  257500.0         1715      0      1      0      1      0      0         1   \n",
       "\n",
       "   floor_L3  bath_Medium  water_1.0  grade_7  grade_8  grade_9  \n",
       "1         0            1          0        1        0        0  \n",
       "2         0            0          0        0        0        0  \n",
       "3         0            1          0        1        0        0  \n",
       "4         0            0          0        0        1        0  \n",
       "6         0            1          0        1        0        0  "
      ]
     },
     "execution_count": 70,
     "metadata": {},
     "output_type": "execute_result"
    }
   ],
   "source": [
    "df6.head()"
   ]
  },
  {
   "cell_type": "markdown",
   "id": "03a43532",
   "metadata": {},
   "source": [
    "# Doing log Transformation for non-normal independent variable:\n"
   ]
  },
  {
   "cell_type": "markdown",
   "id": "a82d5965",
   "metadata": {},
   "source": [
    "#we have to check the normality of each independent variable first and do the log transformation for each of the not normal one"
   ]
  },
  {
   "cell_type": "code",
   "execution_count": 71,
   "id": "9b214117",
   "metadata": {},
   "outputs": [
    {
     "data": {
      "image/png": "[encoded data removed]",
      "text/plain": [
       "<Figure size 640x480 with 1 Axes>"
      ]
     },
     "metadata": {},
     "output_type": "display_data"
    }
   ],
   "source": [
    "from statsmodels.graphics.gofplots import qqplot\n",
    "import matplotlib.pyplot as plt\n",
    "\n",
    "qqplot(df6['sqft_living'], line='s')\n",
    "plt.title('Q-Q Plot of sqft_living')\n",
    "plt.xlabel('Theoretical Quantiles')\n",
    "plt.ylabel('Sample Quantiles')\n",
    "plt.show()\n"
   ]
  },
  {
   "cell_type": "code",
   "execution_count": 72,
   "id": "41b14ef3",
   "metadata": {
    "scrolled": true
   },
   "outputs": [
    {
     "data": {
      "image/png": "[encoded data removed]",
      "text/plain": [
       "<Figure size 640x480 with 1 Axes>"
      ]
     },
     "metadata": {},
     "output_type": "display_data"
    }
   ],
   "source": [
    "qqplot(df6['price'], line='s')\n",
    "plt.title('Q-Q Plot of price')\n",
    "plt.xlabel('Theoretical Quantiles')\n",
    "plt.ylabel('Sample Quantiles')\n",
    "plt.show()\n"
   ]
  },
  {
   "cell_type": "markdown",
   "id": "b76f2c15",
   "metadata": {},
   "source": [
    "# do arque-Bera test to make sure or distribution is not normal"
   ]
  },
  {
   "cell_type": "code",
   "execution_count": 73,
   "id": "560ba8da",
   "metadata": {},
   "outputs": [
    {
     "name": "stdout",
     "output_type": "stream",
     "text": [
      "Jarque-Bera test statistic: 957.4776159846789\n",
      "P-value: 1.2200494008459412e-208\n"
     ]
    }
   ],
   "source": [
    "jb_stat, jb_p_value = jarque_bera(df6['sqft_living'])\n",
    "print(f\"Jarque-Bera test statistic: {jb_stat}\")\n",
    "print(f\"P-value: {jb_p_value}\")"
   ]
  },
  {
   "cell_type": "code",
   "execution_count": 74,
   "id": "aff64e6c",
   "metadata": {},
   "outputs": [],
   "source": [
    "# as we conclude (from p>0.05 which means we reject H0 as normal distribution ,and fromJarque-Bera test statistic we conclude the distribution of sqft_living is significantly far from normal one "
   ]
  },
  {
   "cell_type": "code",
   "execution_count": 75,
   "id": "2cfee5e0",
   "metadata": {},
   "outputs": [
    {
     "name": "stdout",
     "output_type": "stream",
     "text": [
      "Jarque-Bera test statistic: 48245.297279294144\n",
      "P-value: 0.0\n"
     ]
    }
   ],
   "source": [
    "jb_stat, jb_p_value = jarque_bera(df6['price'])\n",
    "print(f\"Jarque-Bera test statistic: {jb_stat}\")\n",
    "print(f\"P-value: {jb_p_value}\")"
   ]
  },
  {
   "cell_type": "code",
   "execution_count": 76,
   "id": "2f81c348",
   "metadata": {},
   "outputs": [],
   "source": [
    "#based on non normal distribution for sqft_living and prce we need to do log transformation for both of this column"
   ]
  },
  {
   "cell_type": "markdown",
   "id": "a74147b5",
   "metadata": {},
   "source": [
    "# do log transformation for continous columns(price,sqft_living)"
   ]
  },
  {
   "cell_type": "code",
   "execution_count": 77,
   "id": "d798f5a3",
   "metadata": {},
   "outputs": [],
   "source": [
    "df6['sqft_living'] = df6['sqft_living'].apply(lambda x: np.log(x))"
   ]
  },
  {
   "cell_type": "code",
   "execution_count": 78,
   "id": "fbc93640",
   "metadata": {},
   "outputs": [],
   "source": [
    "df6['price']=df6['price'].apply(lambda x: np.log(x))"
   ]
  },
  {
   "cell_type": "markdown",
   "id": "1b2cb9dc",
   "metadata": {},
   "source": [
    "# create the third model"
   ]
  },
  {
   "cell_type": "code",
   "execution_count": 79,
   "id": "77d62678",
   "metadata": {},
   "outputs": [
    {
     "data": {
      "text/html": [
       "<table class=\"simpletable\">\n",
       "<caption>OLS Regression Results</caption>\n",
       "<tr>\n",
       "  <th>Dep. Variable:</th>          <td>price</td>      <th>  R-squared:         </th> <td>   0.450</td> \n",
       "</tr>\n",
       "<tr>\n",
       "  <th>Model:</th>                   <td>OLS</td>       <th>  Adj. R-squared:    </th> <td>   0.450</td> \n",
       "</tr>\n",
       "<tr>\n",
       "  <th>Method:</th>             <td>Least Squares</td>  <th>  F-statistic:       </th> <td>   994.1</td> \n",
       "</tr>\n",
       "<tr>\n",
       "  <th>Date:</th>             <td>Thu, 28 Mar 2024</td> <th>  Prob (F-statistic):</th>  <td>  0.00</td>  \n",
       "</tr>\n",
       "<tr>\n",
       "  <th>Time:</th>                 <td>22:03:29</td>     <th>  Log-Likelihood:    </th> <td> -5484.4</td> \n",
       "</tr>\n",
       "<tr>\n",
       "  <th>No. Observations:</th>      <td> 16996</td>      <th>  AIC:               </th> <td>1.100e+04</td>\n",
       "</tr>\n",
       "<tr>\n",
       "  <th>Df Residuals:</th>          <td> 16981</td>      <th>  BIC:               </th> <td>1.111e+04</td>\n",
       "</tr>\n",
       "<tr>\n",
       "  <th>Df Model:</th>              <td>    14</td>      <th>                     </th>     <td> </td>    \n",
       "</tr>\n",
       "<tr>\n",
       "  <th>Covariance Type:</th>      <td>nonrobust</td>    <th>                     </th>     <td> </td>    \n",
       "</tr>\n",
       "</table>\n",
       "<table class=\"simpletable\">\n",
       "<tr>\n",
       "       <td></td>          <th>coef</th>     <th>std err</th>      <th>t</th>      <th>P>|t|</th>  <th>[0.025</th>    <th>0.975]</th>  \n",
       "</tr>\n",
       "<tr>\n",
       "  <th>const</th>       <td>    9.0545</td> <td>    0.083</td> <td>  108.844</td> <td> 0.000</td> <td>    8.891</td> <td>    9.218</td>\n",
       "</tr>\n",
       "<tr>\n",
       "  <th>sqft_living</th> <td>    0.5129</td> <td>    0.012</td> <td>   42.841</td> <td> 0.000</td> <td>    0.489</td> <td>    0.536</td>\n",
       "</tr>\n",
       "<tr>\n",
       "  <th>con_2</th>       <td>   -0.2114</td> <td>    0.030</td> <td>   -7.034</td> <td> 0.000</td> <td>   -0.270</td> <td>   -0.152</td>\n",
       "</tr>\n",
       "<tr>\n",
       "  <th>con_3</th>       <td>   -0.0696</td> <td>    0.006</td> <td>  -11.244</td> <td> 0.000</td> <td>   -0.082</td> <td>   -0.057</td>\n",
       "</tr>\n",
       "<tr>\n",
       "  <th>con_5</th>       <td>    0.1376</td> <td>    0.010</td> <td>   13.427</td> <td> 0.000</td> <td>    0.118</td> <td>    0.158</td>\n",
       "</tr>\n",
       "<tr>\n",
       "  <th>bed_3</th>       <td>   -0.1699</td> <td>    0.009</td> <td>  -19.637</td> <td> 0.000</td> <td>   -0.187</td> <td>   -0.153</td>\n",
       "</tr>\n",
       "<tr>\n",
       "  <th>bed_4</th>       <td>   -0.1777</td> <td>    0.010</td> <td>  -17.068</td> <td> 0.000</td> <td>   -0.198</td> <td>   -0.157</td>\n",
       "</tr>\n",
       "<tr>\n",
       "  <th>bed_5</th>       <td>   -0.1568</td> <td>    0.014</td> <td>  -10.950</td> <td> 0.000</td> <td>   -0.185</td> <td>   -0.129</td>\n",
       "</tr>\n",
       "<tr>\n",
       "  <th>floor_L2</th>    <td>   -0.0542</td> <td>    0.007</td> <td>   -7.653</td> <td> 0.000</td> <td>   -0.068</td> <td>   -0.040</td>\n",
       "</tr>\n",
       "<tr>\n",
       "  <th>floor_L3</th>    <td>    0.1095</td> <td>    0.016</td> <td>    6.642</td> <td> 0.000</td> <td>    0.077</td> <td>    0.142</td>\n",
       "</tr>\n",
       "<tr>\n",
       "  <th>bath_Medium</th> <td>   -0.0402</td> <td>    0.007</td> <td>   -5.415</td> <td> 0.000</td> <td>   -0.055</td> <td>   -0.026</td>\n",
       "</tr>\n",
       "<tr>\n",
       "  <th>water_1.0</th>   <td>    0.5656</td> <td>    0.038</td> <td>   14.756</td> <td> 0.000</td> <td>    0.490</td> <td>    0.641</td>\n",
       "</tr>\n",
       "<tr>\n",
       "  <th>grade_7</th>     <td>    0.1901</td> <td>    0.010</td> <td>   19.744</td> <td> 0.000</td> <td>    0.171</td> <td>    0.209</td>\n",
       "</tr>\n",
       "<tr>\n",
       "  <th>grade_8</th>     <td>    0.3989</td> <td>    0.011</td> <td>   34.840</td> <td> 0.000</td> <td>    0.376</td> <td>    0.421</td>\n",
       "</tr>\n",
       "<tr>\n",
       "  <th>grade_9</th>     <td>    0.6486</td> <td>    0.014</td> <td>   45.643</td> <td> 0.000</td> <td>    0.621</td> <td>    0.676</td>\n",
       "</tr>\n",
       "</table>\n",
       "<table class=\"simpletable\">\n",
       "<tr>\n",
       "  <th>Omnibus:</th>       <td>10.255</td> <th>  Durbin-Watson:     </th> <td>   1.980</td>\n",
       "</tr>\n",
       "<tr>\n",
       "  <th>Prob(Omnibus):</th> <td> 0.006</td> <th>  Jarque-Bera (JB):  </th> <td>   9.593</td>\n",
       "</tr>\n",
       "<tr>\n",
       "  <th>Skew:</th>          <td> 0.028</td> <th>  Prob(JB):          </th> <td> 0.00826</td>\n",
       "</tr>\n",
       "<tr>\n",
       "  <th>Kurtosis:</th>      <td> 2.898</td> <th>  Cond. No.          </th> <td>    254.</td>\n",
       "</tr>\n",
       "</table><br/><br/>Notes:<br/>[1] Standard Errors assume that the covariance matrix of the errors is correctly specified."
      ],
      "text/latex": [
       "\\begin{center}\n",
       "\\begin{tabular}{lclc}\n",
       "\\toprule\n",
       "\\textbf{Dep. Variable:}    &      price       & \\textbf{  R-squared:         } &     0.450   \\\\\n",
       "\\textbf{Model:}            &       OLS        & \\textbf{  Adj. R-squared:    } &     0.450   \\\\\n",
       "\\textbf{Method:}           &  Least Squares   & \\textbf{  F-statistic:       } &     994.1   \\\\\n",
       "\\textbf{Date:}             & Thu, 28 Mar 2024 & \\textbf{  Prob (F-statistic):} &     0.00    \\\\\n",
       "\\textbf{Time:}             &     22:03:29     & \\textbf{  Log-Likelihood:    } &   -5484.4   \\\\\n",
       "\\textbf{No. Observations:} &       16996      & \\textbf{  AIC:               } & 1.100e+04   \\\\\n",
       "\\textbf{Df Residuals:}     &       16981      & \\textbf{  BIC:               } & 1.111e+04   \\\\\n",
       "\\textbf{Df Model:}         &          14      & \\textbf{                     } &             \\\\\n",
       "\\textbf{Covariance Type:}  &    nonrobust     & \\textbf{                     } &             \\\\\n",
       "\\bottomrule\n",
       "\\end{tabular}\n",
       "\\begin{tabular}{lcccccc}\n",
       "                      & \\textbf{coef} & \\textbf{std err} & \\textbf{t} & \\textbf{P$> |$t$|$} & \\textbf{[0.025} & \\textbf{0.975]}  \\\\\n",
       "\\midrule\n",
       "\\textbf{const}        &       9.0545  &        0.083     &   108.844  &         0.000        &        8.891    &        9.218     \\\\\n",
       "\\textbf{sqft\\_living} &       0.5129  &        0.012     &    42.841  &         0.000        &        0.489    &        0.536     \\\\\n",
       "\\textbf{con\\_2}       &      -0.2114  &        0.030     &    -7.034  &         0.000        &       -0.270    &       -0.152     \\\\\n",
       "\\textbf{con\\_3}       &      -0.0696  &        0.006     &   -11.244  &         0.000        &       -0.082    &       -0.057     \\\\\n",
       "\\textbf{con\\_5}       &       0.1376  &        0.010     &    13.427  &         0.000        &        0.118    &        0.158     \\\\\n",
       "\\textbf{bed\\_3}       &      -0.1699  &        0.009     &   -19.637  &         0.000        &       -0.187    &       -0.153     \\\\\n",
       "\\textbf{bed\\_4}       &      -0.1777  &        0.010     &   -17.068  &         0.000        &       -0.198    &       -0.157     \\\\\n",
       "\\textbf{bed\\_5}       &      -0.1568  &        0.014     &   -10.950  &         0.000        &       -0.185    &       -0.129     \\\\\n",
       "\\textbf{floor\\_L2}    &      -0.0542  &        0.007     &    -7.653  &         0.000        &       -0.068    &       -0.040     \\\\\n",
       "\\textbf{floor\\_L3}    &       0.1095  &        0.016     &     6.642  &         0.000        &        0.077    &        0.142     \\\\\n",
       "\\textbf{bath\\_Medium} &      -0.0402  &        0.007     &    -5.415  &         0.000        &       -0.055    &       -0.026     \\\\\n",
       "\\textbf{water\\_1.0}   &       0.5656  &        0.038     &    14.756  &         0.000        &        0.490    &        0.641     \\\\\n",
       "\\textbf{grade\\_7}     &       0.1901  &        0.010     &    19.744  &         0.000        &        0.171    &        0.209     \\\\\n",
       "\\textbf{grade\\_8}     &       0.3989  &        0.011     &    34.840  &         0.000        &        0.376    &        0.421     \\\\\n",
       "\\textbf{grade\\_9}     &       0.6486  &        0.014     &    45.643  &         0.000        &        0.621    &        0.676     \\\\\n",
       "\\bottomrule\n",
       "\\end{tabular}\n",
       "\\begin{tabular}{lclc}\n",
       "\\textbf{Omnibus:}       & 10.255 & \\textbf{  Durbin-Watson:     } &    1.980  \\\\\n",
       "\\textbf{Prob(Omnibus):} &  0.006 & \\textbf{  Jarque-Bera (JB):  } &    9.593  \\\\\n",
       "\\textbf{Skew:}          &  0.028 & \\textbf{  Prob(JB):          } &  0.00826  \\\\\n",
       "\\textbf{Kurtosis:}      &  2.898 & \\textbf{  Cond. No.          } &     254.  \\\\\n",
       "\\bottomrule\n",
       "\\end{tabular}\n",
       "%\\caption{OLS Regression Results}\n",
       "\\end{center}\n",
       "\n",
       "Notes: \\newline\n",
       " [1] Standard Errors assume that the covariance matrix of the errors is correctly specified."
      ],
      "text/plain": [
       "<class 'statsmodels.iolib.summary.Summary'>\n",
       "\"\"\"\n",
       "                            OLS Regression Results                            \n",
       "==============================================================================\n",
       "Dep. Variable:                  price   R-squared:                       0.450\n",
       "Model:                            OLS   Adj. R-squared:                  0.450\n",
       "Method:                 Least Squares   F-statistic:                     994.1\n",
       "Date:                Thu, 28 Mar 2024   Prob (F-statistic):               0.00\n",
       "Time:                        22:03:29   Log-Likelihood:                -5484.4\n",
       "No. Observations:               16996   AIC:                         1.100e+04\n",
       "Df Residuals:                   16981   BIC:                         1.111e+04\n",
       "Df Model:                          14                                         \n",
       "Covariance Type:            nonrobust                                         \n",
       "===============================================================================\n",
       "                  coef    std err          t      P>|t|      [0.025      0.975]\n",
       "-------------------------------------------------------------------------------\n",
       "const           9.0545      0.083    108.844      0.000       8.891       9.218\n",
       "sqft_living     0.5129      0.012     42.841      0.000       0.489       0.536\n",
       "con_2          -0.2114      0.030     -7.034      0.000      -0.270      -0.152\n",
       "con_3          -0.0696      0.006    -11.244      0.000      -0.082      -0.057\n",
       "con_5           0.1376      0.010     13.427      0.000       0.118       0.158\n",
       "bed_3          -0.1699      0.009    -19.637      0.000      -0.187      -0.153\n",
       "bed_4          -0.1777      0.010    -17.068      0.000      -0.198      -0.157\n",
       "bed_5          -0.1568      0.014    -10.950      0.000      -0.185      -0.129\n",
       "floor_L2       -0.0542      0.007     -7.653      0.000      -0.068      -0.040\n",
       "floor_L3        0.1095      0.016      6.642      0.000       0.077       0.142\n",
       "bath_Medium    -0.0402      0.007     -5.415      0.000      -0.055      -0.026\n",
       "water_1.0       0.5656      0.038     14.756      0.000       0.490       0.641\n",
       "grade_7         0.1901      0.010     19.744      0.000       0.171       0.209\n",
       "grade_8         0.3989      0.011     34.840      0.000       0.376       0.421\n",
       "grade_9         0.6486      0.014     45.643      0.000       0.621       0.676\n",
       "==============================================================================\n",
       "Omnibus:                       10.255   Durbin-Watson:                   1.980\n",
       "Prob(Omnibus):                  0.006   Jarque-Bera (JB):                9.593\n",
       "Skew:                           0.028   Prob(JB):                      0.00826\n",
       "Kurtosis:                       2.898   Cond. No.                         254.\n",
       "==============================================================================\n",
       "\n",
       "Notes:\n",
       "[1] Standard Errors assume that the covariance matrix of the errors is correctly specified.\n",
       "\"\"\""
      ]
     },
     "execution_count": 79,
     "metadata": {},
     "output_type": "execute_result"
    }
   ],
   "source": [
    "df6.dropna(inplace=True)\n",
    "X = sm.add_constant(df6.drop(columns=['price']))\n",
    "y = df6['price']\n",
    "model = sm.OLS(y, X).fit()\n",
    "model.summary()"
   ]
  },
  {
   "cell_type": "markdown",
   "id": "0686459a",
   "metadata": {},
   "source": [
    "# A brief summary of model 3"
   ]
  },
  {
   "cell_type": "code",
   "execution_count": 80,
   "id": "b7b57bf9",
   "metadata": {},
   "outputs": [],
   "source": [
    "#based on R^2 we recognize about 45% of  the variability in house prices can be explained by the independent variables included in the model\n",
    "\n",
    "# since p values are less that 0.05 which means this model is significant,which means changing in this varibles has significanrt impact on price\n",
    "\n",
    "#A skewness value of 1.441 indicates that the distribution of residuals is moderately skewed to the right (positively skewed), meaning that there is a longer tail on the right side of the distribution compared to the left.\n",
    "\n",
    "# A kurtosis value of 9.369 indicates that the distribution of residuals is leptokurtic, meaning it is more peaked and has heavier tails than a normal distribution"
   ]
  },
  {
   "cell_type": "markdown",
   "id": "d2253675",
   "metadata": {},
   "source": [
    "# model Evaluation"
   ]
  },
  {
   "cell_type": "markdown",
   "id": "e82a5279",
   "metadata": {},
   "source": [
    "#doing some train test evaluation"
   ]
  },
  {
   "cell_type": "code",
   "execution_count": 81,
   "id": "df0a6ade",
   "metadata": {},
   "outputs": [
    {
     "name": "stdout",
     "output_type": "stream",
     "text": [
      "13596 3400 13596 3400\n"
     ]
    }
   ],
   "source": [
    "x = df6.drop(columns=['price'])  \n",
    "y = df6['price']  \n",
    "x_train, x_test, y_train, y_test = train_test_split(x, y, test_size=0.2, random_state=42)\n",
    "print(len(x_train),len(x_test),len(y_train),len(y_test))"
   ]
  },
  {
   "cell_type": "code",
   "execution_count": 82,
   "id": "1af67604",
   "metadata": {},
   "outputs": [
    {
     "data": {
      "text/html": [
       "<style>#sk-container-id-1 {color: black;}#sk-container-id-1 pre{padding: 0;}#sk-container-id-1 div.sk-toggleable {background-color: white;}#sk-container-id-1 label.sk-toggleable__label {cursor: pointer;display: block;width: 100%;margin-bottom: 0;padding: 0.3em;box-sizing: border-box;text-align: center;}#sk-container-id-1 label.sk-toggleable__label-arrow:before {content: \"▸\";float: left;margin-right: 0.25em;color: #696969;}#sk-container-id-1 label.sk-toggleable__label-arrow:hover:before {color: black;}#sk-container-id-1 div.sk-estimator:hover label.sk-toggleable__label-arrow:before {color: black;}#sk-container-id-1 div.sk-toggleable__content {max-height: 0;max-width: 0;overflow: hidden;text-align: left;background-color: #f0f8ff;}#sk-container-id-1 div.sk-toggleable__content pre {margin: 0.2em;color: black;border-radius: 0.25em;background-color: #f0f8ff;}#sk-container-id-1 input.sk-toggleable__control:checked~div.sk-toggleable__content {max-height: 200px;max-width: 100%;overflow: auto;}#sk-container-id-1 input.sk-toggleable__control:checked~label.sk-toggleable__label-arrow:before {content: \"▾\";}#sk-container-id-1 div.sk-estimator input.sk-toggleable__control:checked~label.sk-toggleable__label {background-color: #d4ebff;}#sk-container-id-1 div.sk-label input.sk-toggleable__control:checked~label.sk-toggleable__label {background-color: #d4ebff;}#sk-container-id-1 input.sk-hidden--visually {border: 0;clip: rect(1px 1px 1px 1px);clip: rect(1px, 1px, 1px, 1px);height: 1px;margin: -1px;overflow: hidden;padding: 0;position: absolute;width: 1px;}#sk-container-id-1 div.sk-estimator {font-family: monospace;background-color: #f0f8ff;border: 1px dotted black;border-radius: 0.25em;box-sizing: border-box;margin-bottom: 0.5em;}#sk-container-id-1 div.sk-estimator:hover {background-color: #d4ebff;}#sk-container-id-1 div.sk-parallel-item::after {content: \"\";width: 100%;border-bottom: 1px solid gray;flex-grow: 1;}#sk-container-id-1 div.sk-label:hover label.sk-toggleable__label {background-color: #d4ebff;}#sk-container-id-1 div.sk-serial::before {content: \"\";position: absolute;border-left: 1px solid gray;box-sizing: border-box;top: 0;bottom: 0;left: 50%;z-index: 0;}#sk-container-id-1 div.sk-serial {display: flex;flex-direction: column;align-items: center;background-color: white;padding-right: 0.2em;padding-left: 0.2em;position: relative;}#sk-container-id-1 div.sk-item {position: relative;z-index: 1;}#sk-container-id-1 div.sk-parallel {display: flex;align-items: stretch;justify-content: center;background-color: white;position: relative;}#sk-container-id-1 div.sk-item::before, #sk-container-id-1 div.sk-parallel-item::before {content: \"\";position: absolute;border-left: 1px solid gray;box-sizing: border-box;top: 0;bottom: 0;left: 50%;z-index: -1;}#sk-container-id-1 div.sk-parallel-item {display: flex;flex-direction: column;z-index: 1;position: relative;background-color: white;}#sk-container-id-1 div.sk-parallel-item:first-child::after {align-self: flex-end;width: 50%;}#sk-container-id-1 div.sk-parallel-item:last-child::after {align-self: flex-start;width: 50%;}#sk-container-id-1 div.sk-parallel-item:only-child::after {width: 0;}#sk-container-id-1 div.sk-dashed-wrapped {border: 1px dashed gray;margin: 0 0.4em 0.5em 0.4em;box-sizing: border-box;padding-bottom: 0.4em;background-color: white;}#sk-container-id-1 div.sk-label label {font-family: monospace;font-weight: bold;display: inline-block;line-height: 1.2em;}#sk-container-id-1 div.sk-label-container {text-align: center;}#sk-container-id-1 div.sk-container {/* jupyter's `normalize.less` sets `[hidden] { display: none; }` but bootstrap.min.css set `[hidden] { display: none !important; }` so we also need the `!important` here to be able to override the default hidden behavior on the sphinx rendered scikit-learn.org. See: https://github.com/scikit-learn/scikit-learn/issues/21755 */display: inline-block !important;position: relative;}#sk-container-id-1 div.sk-text-repr-fallback {display: none;}</style><div id=\"sk-container-id-1\" class=\"sk-top-container\"><div class=\"sk-text-repr-fallback\"><pre>LinearRegression()</pre><b>In a Jupyter environment, please rerun this cell to show the HTML representation or trust the notebook. <br />On GitHub, the HTML representation is unable to render, please try loading this page with nbviewer.org.</b></div><div class=\"sk-container\" hidden><div class=\"sk-item\"><div class=\"sk-estimator sk-toggleable\"><input class=\"sk-toggleable__control sk-hidden--visually\" id=\"sk-estimator-id-1\" type=\"checkbox\" checked><label for=\"sk-estimator-id-1\" class=\"sk-toggleable__label sk-toggleable__label-arrow\">LinearRegression</label><div class=\"sk-toggleable__content\"><pre>LinearRegression()</pre></div></div></div></div></div>"
      ],
      "text/plain": [
       "LinearRegression()"
      ]
     },
     "execution_count": 82,
     "metadata": {},
     "output_type": "execute_result"
    }
   ],
   "source": [
    "model=LinearRegression()\n",
    "model.fit(x_train, y_train)"
   ]
  },
  {
   "cell_type": "code",
   "execution_count": 83,
   "id": "4eb9c276",
   "metadata": {},
   "outputs": [
    {
     "data": {
      "text/plain": [
       "array([12.88367947, 12.8927146 , 12.92617138, ..., 12.65031267,\n",
       "       13.22096533, 12.7571403 ])"
      ]
     },
     "execution_count": 83,
     "metadata": {},
     "output_type": "execute_result"
    }
   ],
   "source": [
    "y_hat_train=model.predict(x_train)\n",
    "y_hat_train"
   ]
  },
  {
   "cell_type": "code",
   "execution_count": 84,
   "id": "58ab108b",
   "metadata": {},
   "outputs": [
    {
     "data": {
      "text/plain": [
       "array([12.96137821, 12.73757146, 13.11168192, ..., 12.90468767,\n",
       "       13.04970327, 13.54015698])"
      ]
     },
     "execution_count": 84,
     "metadata": {},
     "output_type": "execute_result"
    }
   ],
   "source": [
    "y_hat_test=model.predict(x_test)\n",
    "y_hat_test"
   ]
  },
  {
   "cell_type": "code",
   "execution_count": 85,
   "id": "bd1c308d",
   "metadata": {},
   "outputs": [
    {
     "data": {
      "text/plain": [
       "21208    13.321214\n",
       "9737     12.644166\n",
       "4709     12.928779\n",
       "4679     13.321214\n",
       "8123     12.751155\n",
       "           ...    \n",
       "6009     13.845069\n",
       "18543    12.502467\n",
       "8240     12.721886\n",
       "11463    13.204865\n",
       "3191     13.598598\n",
       "Name: price, Length: 3400, dtype: float64"
      ]
     },
     "execution_count": 85,
     "metadata": {},
     "output_type": "execute_result"
    }
   ],
   "source": [
    "y_test"
   ]
  },
  {
   "cell_type": "code",
   "execution_count": 86,
   "id": "db2ded83",
   "metadata": {},
   "outputs": [],
   "source": [
    "#check the accuracy of our model with score feature"
   ]
  },
  {
   "cell_type": "code",
   "execution_count": 87,
   "id": "233611e3",
   "metadata": {},
   "outputs": [
    {
     "data": {
      "text/plain": [
       "0.4537980980705796"
      ]
     },
     "execution_count": 87,
     "metadata": {},
     "output_type": "execute_result"
    }
   ],
   "source": [
    "model.score(x_test,y_test)"
   ]
  },
  {
   "cell_type": "code",
   "execution_count": 88,
   "id": "5b7e2125",
   "metadata": {},
   "outputs": [],
   "source": [
    "#calculating  MSE "
   ]
  },
  {
   "cell_type": "code",
   "execution_count": 89,
   "id": "973ac1ae",
   "metadata": {},
   "outputs": [
    {
     "data": {
      "text/plain": [
       "0.1099168305533687"
      ]
     },
     "execution_count": 89,
     "metadata": {},
     "output_type": "execute_result"
    }
   ],
   "source": [
    "y_hat_test = model.predict(x_test)\n",
    "test_mse = mean_squared_error(y_test, y_hat_test)\n",
    "test_mse"
   ]
  },
  {
   "cell_type": "code",
   "execution_count": 90,
   "id": "f89cd711",
   "metadata": {},
   "outputs": [
    {
     "data": {
      "text/plain": [
       "0.11212729847697542"
      ]
     },
     "execution_count": 90,
     "metadata": {},
     "output_type": "execute_result"
    }
   ],
   "source": [
    "y_hat_train = model.predict(x_train)\n",
    "train_mse = mean_squared_error(y_train, y_hat_train)\n",
    "train_mse"
   ]
  },
  {
   "cell_type": "code",
   "execution_count": 91,
   "id": "bd9897ce",
   "metadata": {},
   "outputs": [
    {
     "data": {
      "text/plain": [
       "0.0022104679236067126"
      ]
     },
     "execution_count": 91,
     "metadata": {},
     "output_type": "execute_result"
    }
   ],
   "source": [
    "test_train_mse=train_mse-test_mse\n",
    "test_train_mse"
   ]
  },
  {
   "cell_type": "markdown",
   "id": "b53ccf15",
   "metadata": {},
   "source": [
    "based on the MSE difference which is close to zero ,our model is underfitting."
   ]
  },
  {
   "cell_type": "code",
   "execution_count": null,
   "id": "39188264",
   "metadata": {},
   "outputs": [],
   "source": []
  }
 ],
 "metadata": {
  "kernelspec": {
   "display_name": "Python 3 (ipykernel)",
   "language": "python",
   "name": "python3"
  },
  "language_info": {
   "codemirror_mode": {
    "name": "ipython",
    "version": 3
   },
   "file_extension": ".py",
   "mimetype": "text/x-python",
   "name": "python",
   "nbconvert_exporter": "python",
   "pygments_lexer": "ipython3",
   "version": "3.11.5"
  }
 },
 "nbformat": 4,
 "nbformat_minor": 5
}
